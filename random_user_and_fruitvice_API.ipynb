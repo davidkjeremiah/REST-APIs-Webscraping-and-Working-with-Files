{
 "cells": [
  {
   "cell_type": "markdown",
   "metadata": {},
   "source": [
    "# **Simple APIs for Data Analysis Practice**\n",
    "\n",
    "## **Random User and Fruitvice API Examples**\n",
    "\n",
    "Created on Wed Jul 29 12:33:46 2022\n",
    "\n",
    "@author: David K. Jeremiah\n"
   ]
  },
  {
   "cell_type": "markdown",
   "metadata": {},
   "source": [
    "## **Objectives**\n",
    "\n",
    "This lab is aimed at loading and exploring Simple APIs, such as:\n",
    "\n",
    "*   RandomUser API, using `RandomUser()` Python library\n",
    "*   Fruitvice API, using `requests` Python library\n"
   ]
  },
  {
   "cell_type": "markdown",
   "metadata": {},
   "source": [
    "## **Overview on APIs**\n",
    "\n",
    "API is the acronym for **Application Programming Interface**. Basically, it is a ***software intermediary*** or ***gateway*** that allows two applications to talk to each other. As a Data Analyst, you might be required to work with API's. Some common API's that you're likely to work with include Browser API, REST API and Sensor-Based API\n",
    "\n",
    "One of the applications we will use in this notebook is ***Random User Generator***. \n",
    "\n",
    "**RandomUser** is a free, [open-source](https://github.com/RandomAPI/Randomuser.me-Node) API that provides developers with randomly generated users data to be used as placeholders for testing purposes. This makes the tool similar to ***Lorem Ipsum***, but is a placeholder for people instead of text. The API can return multiple results, as well as specify generated user details such as gender, email, image, username, address, title, first and last name, and more. More information on [RandomUser](https://randomuser.me/) can be found here.\n",
    "\n",
    "Another example of simple API that is used in this notebook is ***Fruityvice API***. \n",
    "\n",
    "The **Fruityvice** API is a powerful webservice which provides data for all kinds of fruit! You can use Fruityvice to find out interesting information about fruit and educate yourself. The webservice is completely free to use and contribute to. Check out more information about this awesome api here: [Fruityvice](https://www.fruityvice.com).\n",
    "\n",
    "Now, let's explore our first API...\n"
   ]
  },
  {
   "cell_type": "markdown",
   "metadata": {},
   "source": [
    "## **1. RandomUser API**\n",
    "\n",
    "Below are Get Methods parameters that we can generate with this API:\n",
    "\n",
    "### **Get Methods**\n",
    "\n",
    "*   get_cell()\n",
    "*   get_city()\n",
    "*   get_dob()\n",
    "*   get_email()\n",
    "*   get_first_name()\n",
    "*   get_full_name()\n",
    "*   get_gender()\n",
    "*   get_id()\n",
    "*   get_id_number()\n",
    "*   get_id_type()\n",
    "*   get_info()\n",
    "*   get_last_name()\n",
    "*   get_login_md5()\n",
    "*   get_login_salt()\n",
    "*   get_login_sha1()\n",
    "*   get_login_sha256()\n",
    "*   get_nat()\n",
    "*   get_password()\n",
    "*   get_phone()\n",
    "*   get_picture()\n",
    "*   get_postcode()\n",
    "*   get_registered()\n",
    "*   get_state()\n",
    "*   get_street()\n",
    "*   get_username()\n",
    "*   get_zipcode()\n",
    "\n",
    "To start using the API you can install the `randomuser` library running the `pip install` command.\n"
   ]
  },
  {
   "cell_type": "code",
   "execution_count": 1,
   "metadata": {},
   "outputs": [],
   "source": [
    "#!pip install randomuser"
   ]
  },
  {
   "cell_type": "markdown",
   "metadata": {},
   "source": [
    "Next, we will load the necessary libraries."
   ]
  },
  {
   "cell_type": "code",
   "execution_count": 10,
   "metadata": {},
   "outputs": [],
   "source": [
    "# import the necessary libraries\n",
    "from randomuser import RandomUser\n",
    "import pandas as pd\n",
    "import urllib.request as ur\n",
    "from PIL import Image"
   ]
  },
  {
   "cell_type": "markdown",
   "metadata": {},
   "source": [
    "First, we will create a random user object, let's call it `r`."
   ]
  },
  {
   "cell_type": "code",
   "execution_count": 3,
   "metadata": {},
   "outputs": [],
   "source": [
    "# Create a random user object\n",
    "r = RandomUser()"
   ]
  },
  {
   "cell_type": "markdown",
   "metadata": {},
   "source": [
    "Then, using `generate_users()` function, we generate a list of ten (10) random users."
   ]
  },
  {
   "cell_type": "code",
   "execution_count": 4,
   "metadata": {},
   "outputs": [
    {
     "name": "stdout",
     "output_type": "stream",
     "text": [
      "[<randomuser.RandomUser object at 0x000002103C87F790>, <randomuser.RandomUser object at 0x000002103C97F610>, <randomuser.RandomUser object at 0x000002103C97FBB0>, <randomuser.RandomUser object at 0x000002103C97F580>, <randomuser.RandomUser object at 0x000002103C97FE20>, <randomuser.RandomUser object at 0x000002103C97FEB0>, <randomuser.RandomUser object at 0x000002103C97FFD0>, <randomuser.RandomUser object at 0x000002103C97FF40>, <randomuser.RandomUser object at 0x000002103C97F520>, <randomuser.RandomUser object at 0x000002103C960D30>]\n"
     ]
    }
   ],
   "source": [
    "# Generate a list of 10 random users\n",
    "some_users = r.generate_users(10)\n",
    "\n",
    "# print list\n",
    "print(some_users)"
   ]
  },
  {
   "cell_type": "markdown",
   "metadata": {},
   "source": [
    "The \"Get Methods\" functions mentioned at the beginning of this notebook, can generate the required parameters to construct a dataset. For example, to get full name, we call get_full_name() function."
   ]
  },
  {
   "cell_type": "code",
   "execution_count": 5,
   "metadata": {},
   "outputs": [
    {
     "name": "stdout",
     "output_type": "stream",
     "text": [
      "Amelia Lefebvre\n"
     ]
    }
   ],
   "source": [
    "name = r.get_full_name()\n",
    "print(name)"
   ]
  },
  {
   "cell_type": "markdown",
   "metadata": {},
   "source": [
    "Let's say we only need 10 users with full names, gender, email addresses, and their phone numbers. We can write a \"for-loop\" to print these 10 users."
   ]
  },
  {
   "cell_type": "code",
   "execution_count": 7,
   "metadata": {},
   "outputs": [
    {
     "name": "stdout",
     "output_type": "stream",
     "text": [
      "Eino Ramo ,  male ,  07-383-410 ,  eino.ramo@example.com\n",
      "Noah Burton ,  male ,  031-629-2850 ,  noah.burton@example.com\n",
      "Etienne Margaret ,  male ,  320-106-8178 ,  etienne.margaret@example.com\n",
      "Claudia Terry ,  female ,  08-3978-5923 ,  claudia.terry@example.com\n",
      "John Rojas ,  male ,  997-568-688 ,  john.rojas@example.com\n",
      "Jar Turner ,  male ,  015396 89595 ,  jar.turner@example.com\n",
      "Amanda Laurila ,  female ,  06-070-751 ,  amanda.laurila@example.com\n",
      "Boyke Cats ,  male ,  (0443) 418229 ,  boyke.cats@example.com\n",
      "Martinha Duarte ,  female ,  (57) 4629-4411 ,  martinha.duarte@example.com\n",
      "Amélie Roussel ,  female ,  075 545 43 08 ,  amelie.roussel@example.com\n"
     ]
    }
   ],
   "source": [
    "for user in some_users:\n",
    "    print(user.get_full_name(), \", \", user.get_gender(), \", \", user.get_phone(), \", \", user.get_email())"
   ]
  },
  {
   "cell_type": "markdown",
   "metadata": {},
   "source": [
    "We can see that the above takes the shape of a Dataset, detailing each users full name, gender, phone number and email address.\n",
    "\n",
    "Let's try something fun. Let's say we want to generate 5 random user pictures from the same list."
   ]
  },
  {
   "cell_type": "code",
   "execution_count": 8,
   "metadata": {},
   "outputs": [
    {
     "name": "stdout",
     "output_type": "stream",
     "text": [
      "https://randomuser.me/api/portraits/men/19.jpg\n",
      "https://randomuser.me/api/portraits/men/72.jpg\n",
      "https://randomuser.me/api/portraits/men/37.jpg\n",
      "https://randomuser.me/api/portraits/women/23.jpg\n",
      "https://randomuser.me/api/portraits/men/53.jpg\n"
     ]
    }
   ],
   "source": [
    "for user in some_users[0:5]:\n",
    "    print(user.get_picture())"
   ]
  },
  {
   "cell_type": "markdown",
   "metadata": {},
   "source": [
    "When you copy and paste the hyperlinks above (that has been printed out) in the address bar of a web-browser, you'll get a picture of each user. But let's view one of the picture using the `PIL` and `urllib` libraries."
   ]
  },
  {
   "cell_type": "code",
   "execution_count": 11,
   "metadata": {},
   "outputs": [
    {
     "data": {
      "image/png": "[encoded data removed]",
      "text/plain": [
       "<PIL.JpegImagePlugin.JpegImageFile image mode=RGB size=128x128 at 0x210385456A0>"
      ]
     },
     "execution_count": 11,
     "metadata": {},
     "output_type": "execute_result"
    }
   ],
   "source": [
    "# save image as '19.jpg' in your current working directory\n",
    "ur.urlretrieve('https://randomuser.me/api/portraits/men/19.jpg', '19.jpg')\n",
    "\n",
    "# view image\n",
    "Image.open('19.jpg')"
   ]
  },
  {
   "cell_type": "markdown",
   "metadata": {},
   "source": [
    "To generate a table with information about the users, we can write a function containing all desirable parameters. For example, 'name', 'gender', 'city', etc. The parameters will depend on the requirements of the test to be performed. \n",
    "\n",
    "We call the Get Methods, listed at the beginning of this notebook. Then, we return pandas dataframe with the users."
   ]
  },
  {
   "cell_type": "code",
   "execution_count": 22,
   "metadata": {},
   "outputs": [],
   "source": [
    "def get_users():\n",
    "    users =[]\n",
    "     \n",
    "    for user in RandomUser.generate_users(10):\n",
    "        users.append(\n",
    "            {\"Name\":user.get_full_name(),\n",
    "            \"Gender\":user.get_gender(),\n",
    "            \"City\":user.get_city(),\n",
    "            \"State\":user.get_state(),\n",
    "            \"Email\":user.get_email(), \n",
    "            \"DOB\":user.get_dob(),\n",
    "            \"Picture\":user.get_picture()}\n",
    "            )\n",
    "      \n",
    "    return users     "
   ]
  },
  {
   "cell_type": "code",
   "execution_count": 23,
   "metadata": {},
   "outputs": [
    {
     "data": {
      "text/plain": [
       "[{'Name': 'Hudson Hughes',\n",
       "  'Gender': 'male',\n",
       "  'City': 'Nelson',\n",
       "  'State': 'Taranaki',\n",
       "  'Email': 'hudson.hughes@example.com',\n",
       "  'DOB': '1957-06-07T00:20:21.843Z',\n",
       "  'Picture': 'https://randomuser.me/api/portraits/men/28.jpg'},\n",
       " {'Name': 'Kimberly Hawkins',\n",
       "  'Gender': 'female',\n",
       "  'City': 'Ely',\n",
       "  'State': 'Devon',\n",
       "  'Email': 'kimberly.hawkins@example.com',\n",
       "  'DOB': '1982-07-30T07:09:21.582Z',\n",
       "  'Picture': 'https://randomuser.me/api/portraits/women/70.jpg'},\n",
       " {'Name': 'Maëlia Da Silva',\n",
       "  'Gender': 'female',\n",
       "  'City': 'Lyon',\n",
       "  'State': 'Var',\n",
       "  'Email': 'maelia.dasilva@example.com',\n",
       "  'DOB': '1946-10-26T20:56:38.953Z',\n",
       "  'Picture': 'https://randomuser.me/api/portraits/women/27.jpg'},\n",
       " {'Name': 'Norah Marie',\n",
       "  'Gender': 'female',\n",
       "  'City': 'Mulhouse',\n",
       "  'State': 'Marne',\n",
       "  'Email': 'norah.marie@example.com',\n",
       "  'DOB': '1962-09-03T21:34:36.173Z',\n",
       "  'Picture': 'https://randomuser.me/api/portraits/women/85.jpg'},\n",
       " {'Name': 'Benjamin Hansen',\n",
       "  'Gender': 'male',\n",
       "  'City': 'Klitmøller',\n",
       "  'State': 'Nordjylland',\n",
       "  'Email': 'benjamin.hansen@example.com',\n",
       "  'DOB': '1989-04-28T03:53:55.915Z',\n",
       "  'Picture': 'https://randomuser.me/api/portraits/men/24.jpg'},\n",
       " {'Name': 'Tanya Butler',\n",
       "  'Gender': 'female',\n",
       "  'City': 'Geelong',\n",
       "  'State': 'New South Wales',\n",
       "  'Email': 'tanya.butler@example.com',\n",
       "  'DOB': '1988-05-21T09:32:08.171Z',\n",
       "  'Picture': 'https://randomuser.me/api/portraits/women/73.jpg'},\n",
       " {'Name': 'Peter Russell',\n",
       "  'Gender': 'male',\n",
       "  'City': 'Lusk',\n",
       "  'State': 'Dún Laoghaire–Rathdown',\n",
       "  'Email': 'peter.russell@example.com',\n",
       "  'DOB': '1947-03-07T00:46:02.688Z',\n",
       "  'Picture': 'https://randomuser.me/api/portraits/men/76.jpg'},\n",
       " {'Name': 'Lilly Davies',\n",
       "  'Gender': 'female',\n",
       "  'City': 'Auckland',\n",
       "  'State': 'Southland',\n",
       "  'Email': 'lilly.davies@example.com',\n",
       "  'DOB': '1956-12-06T20:01:39.613Z',\n",
       "  'Picture': 'https://randomuser.me/api/portraits/women/63.jpg'},\n",
       " {'Name': 'Valtteri Kilpela',\n",
       "  'Gender': 'male',\n",
       "  'City': 'Liperi',\n",
       "  'State': 'Uusimaa',\n",
       "  'Email': 'valtteri.kilpela@example.com',\n",
       "  'DOB': '1963-01-05T21:34:47.809Z',\n",
       "  'Picture': 'https://randomuser.me/api/portraits/men/72.jpg'},\n",
       " {'Name': 'Juho Manner',\n",
       "  'Gender': 'male',\n",
       "  'City': 'Aura',\n",
       "  'State': 'Kainuu',\n",
       "  'Email': 'juho.manner@example.com',\n",
       "  'DOB': '1979-05-03T23:03:05.061Z',\n",
       "  'Picture': 'https://randomuser.me/api/portraits/men/0.jpg'}]"
      ]
     },
     "execution_count": 23,
     "metadata": {},
     "output_type": "execute_result"
    }
   ],
   "source": [
    "# calling function\n",
    "get_users()"
   ]
  },
  {
   "cell_type": "code",
   "execution_count": 24,
   "metadata": {},
   "outputs": [
    {
     "name": "stdout",
     "output_type": "stream",
     "text": [
      "             Name  Gender                  City               State  \\\n",
      "0    Aubree Scott  female            Cumberland    British Columbia   \n",
      "1  Kayla Reynolds  female               Lincoln               Essex   \n",
      "2    Eline Thomas  female          Saint-Pierre  Meurthe-et-Moselle   \n",
      "3  Anolido Moraes    male  Vitória da Conquista      Rio de Janeiro   \n",
      "4    Sara Edwards  female                 Ardee               Laois   \n",
      "\n",
      "                        Email                       DOB  \\\n",
      "0    aubree.scott@example.com  1954-06-22T04:23:56.484Z   \n",
      "1  kayla.reynolds@example.com  1963-12-06T07:48:43.974Z   \n",
      "2    eline.thomas@example.com  1956-12-09T13:44:32.715Z   \n",
      "3  anolido.moraes@example.com  1957-11-26T23:24:00.643Z   \n",
      "4    sara.edwards@example.com  1991-11-25T11:09:27.564Z   \n",
      "\n",
      "                                            Picture  \n",
      "0  https://randomuser.me/api/portraits/women/17.jpg  \n",
      "1  https://randomuser.me/api/portraits/women/69.jpg  \n",
      "2  https://randomuser.me/api/portraits/women/83.jpg  \n",
      "3    https://randomuser.me/api/portraits/men/10.jpg  \n",
      "4  https://randomuser.me/api/portraits/women/12.jpg  \n"
     ]
    }
   ],
   "source": [
    "# create dataframe\n",
    "df1 = pd.DataFrame(get_users())  \n",
    "\n",
    "# print the first 5 rows\n",
    "print(df1.head())"
   ]
  },
  {
   "cell_type": "markdown",
   "metadata": {},
   "source": [
    "Now we have a pandas dataframe that can be used for any testing and analysis purposes that the tester might have."
   ]
  },
  {
   "cell_type": "markdown",
   "metadata": {},
   "source": [
    "## **2. Fruityvice API**\n",
    "\n",
    "Another common way to use APIs, is through the requests library. The part of the lab will contain more information about requests.\n",
    "\n",
    "We will start by importing all required libraries."
   ]
  },
  {
   "cell_type": "code",
   "execution_count": 16,
   "metadata": {},
   "outputs": [],
   "source": [
    "import requests\n",
    "import json"
   ]
  },
  {
   "cell_type": "markdown",
   "metadata": {},
   "source": [
    "We will obtain the fruitvice API data using `requests.get(\"url\")` function. The data is in a json format."
   ]
  },
  {
   "cell_type": "code",
   "execution_count": 17,
   "metadata": {},
   "outputs": [],
   "source": [
    "data = requests.get(\"https://www.fruityvice.com/api/fruit/all\")"
   ]
  },
  {
   "cell_type": "markdown",
   "metadata": {},
   "source": [
    "**Note**: Currently the webservice consists of two functions: receiving data for a ***specific fruit*** or ***all fruit***, and a function to add your own data. \n",
    "\n",
    "To receive needed data, you have to make a HTTP GET call on the resource `/api/fruit/all` or `/api/fruit/{ID}` or `/api/fruit/{name}` of this website's IP. To add data, make a HTTP PUT call on the resource /api/fruit with the data of a fruit in JSON format in the request body. An ID does not have to be provided. A full documentation for the REST API can be found [here](https://www.fruityvice.com/doc/index.html).\n",
    "\n",
    "An example of what the response body would look like, for receiving data for ***all*** fruit, can be seen below.\n",
    "\n",
    "We will retrieve results using `json.loads()` function."
   ]
  },
  {
   "cell_type": "code",
   "execution_count": 19,
   "metadata": {},
   "outputs": [],
   "source": [
    "results = json.loads(data.text)"
   ]
  },
  {
   "cell_type": "markdown",
   "metadata": {},
   "source": [
    "**Note:** You can get the same result using `data.json()` from the requests library, where data is the variable we created above.\n",
    "\n",
    "Next, we will convert our json data into pandas data frame."
   ]
  },
  {
   "cell_type": "code",
   "execution_count": 20,
   "metadata": {},
   "outputs": [
    {
     "data": {
      "text/html": [
       "<div>\n",
       "<style scoped>\n",
       "    .dataframe tbody tr th:only-of-type {\n",
       "        vertical-align: middle;\n",
       "    }\n",
       "\n",
       "    .dataframe tbody tr th {\n",
       "        vertical-align: top;\n",
       "    }\n",
       "\n",
       "    .dataframe thead th {\n",
       "        text-align: right;\n",
       "    }\n",
       "</style>\n",
       "<table border=\"1\" class=\"dataframe\">\n",
       "  <thead>\n",
       "    <tr style=\"text-align: right;\">\n",
       "      <th></th>\n",
       "      <th>genus</th>\n",
       "      <th>name</th>\n",
       "      <th>id</th>\n",
       "      <th>family</th>\n",
       "      <th>order</th>\n",
       "      <th>nutritions</th>\n",
       "    </tr>\n",
       "  </thead>\n",
       "  <tbody>\n",
       "    <tr>\n",
       "      <th>0</th>\n",
       "      <td>Malus</td>\n",
       "      <td>Apple</td>\n",
       "      <td>6</td>\n",
       "      <td>Rosaceae</td>\n",
       "      <td>Rosales</td>\n",
       "      <td>{'carbohydrates': 11.4, 'protein': 0.3, 'fat':...</td>\n",
       "    </tr>\n",
       "    <tr>\n",
       "      <th>1</th>\n",
       "      <td>Prunus</td>\n",
       "      <td>Apricot</td>\n",
       "      <td>35</td>\n",
       "      <td>Rosaceae</td>\n",
       "      <td>Rosales</td>\n",
       "      <td>{'carbohydrates': 3.9, 'protein': 0.5, 'fat': ...</td>\n",
       "    </tr>\n",
       "    <tr>\n",
       "      <th>2</th>\n",
       "      <td>Musa</td>\n",
       "      <td>Banana</td>\n",
       "      <td>1</td>\n",
       "      <td>Musaceae</td>\n",
       "      <td>Zingiberales</td>\n",
       "      <td>{'carbohydrates': 22, 'protein': 1, 'fat': 0.2...</td>\n",
       "    </tr>\n",
       "    <tr>\n",
       "      <th>3</th>\n",
       "      <td>Rubus</td>\n",
       "      <td>Blackberry</td>\n",
       "      <td>64</td>\n",
       "      <td>Rosaceae</td>\n",
       "      <td>Rosales</td>\n",
       "      <td>{'carbohydrates': 9, 'protein': 1.3, 'fat': 0....</td>\n",
       "    </tr>\n",
       "    <tr>\n",
       "      <th>4</th>\n",
       "      <td>Fragaria</td>\n",
       "      <td>Blueberry</td>\n",
       "      <td>33</td>\n",
       "      <td>Rosaceae</td>\n",
       "      <td>Rosales</td>\n",
       "      <td>{'carbohydrates': 5.5, 'protein': 0, 'fat': 0....</td>\n",
       "    </tr>\n",
       "    <tr>\n",
       "      <th>5</th>\n",
       "      <td>Prunus</td>\n",
       "      <td>Cherry</td>\n",
       "      <td>9</td>\n",
       "      <td>Rosaceae</td>\n",
       "      <td>None</td>\n",
       "      <td>{'carbohydrates': 12, 'protein': 1, 'fat': 0.3...</td>\n",
       "    </tr>\n",
       "    <tr>\n",
       "      <th>6</th>\n",
       "      <td>Durio</td>\n",
       "      <td>Durian</td>\n",
       "      <td>60</td>\n",
       "      <td>Malvaceae</td>\n",
       "      <td>Malvales</td>\n",
       "      <td>{'carbohydrates': 27.1, 'protein': 1.5, 'fat':...</td>\n",
       "    </tr>\n",
       "    <tr>\n",
       "      <th>7</th>\n",
       "      <td>Ficus</td>\n",
       "      <td>Fig</td>\n",
       "      <td>68</td>\n",
       "      <td>Moraceae</td>\n",
       "      <td>Rosales</td>\n",
       "      <td>{'carbohydrates': 19, 'protein': 0.8, 'fat': 0...</td>\n",
       "    </tr>\n",
       "    <tr>\n",
       "      <th>8</th>\n",
       "      <td>Ribes</td>\n",
       "      <td>Gooseberry</td>\n",
       "      <td>69</td>\n",
       "      <td>Grossulariaceae</td>\n",
       "      <td>Saxifragales</td>\n",
       "      <td>{'carbohydrates': 10, 'protein': 0.9, 'fat': 0...</td>\n",
       "    </tr>\n",
       "    <tr>\n",
       "      <th>9</th>\n",
       "      <td>Vitis</td>\n",
       "      <td>Grapes</td>\n",
       "      <td>47</td>\n",
       "      <td>Vitaceae</td>\n",
       "      <td>Vitales</td>\n",
       "      <td>{'carbohydrates': 18.1, 'protein': 0.72, 'fat'...</td>\n",
       "    </tr>\n",
       "    <tr>\n",
       "      <th>10</th>\n",
       "      <td>Malus</td>\n",
       "      <td>GreenApple</td>\n",
       "      <td>72</td>\n",
       "      <td>Rosaceae</td>\n",
       "      <td>Rosales</td>\n",
       "      <td>{'carbohydrates': 3.1, 'protein': 0.4, 'fat': ...</td>\n",
       "    </tr>\n",
       "    <tr>\n",
       "      <th>11</th>\n",
       "      <td>Psidium</td>\n",
       "      <td>Guava</td>\n",
       "      <td>37</td>\n",
       "      <td>Myrtaceae</td>\n",
       "      <td>Myrtales</td>\n",
       "      <td>{'carbohydrates': 14, 'protein': 2.6, 'fat': 1...</td>\n",
       "    </tr>\n",
       "    <tr>\n",
       "      <th>12</th>\n",
       "      <td>Apteryx</td>\n",
       "      <td>Kiwi</td>\n",
       "      <td>66</td>\n",
       "      <td>Actinidiaceae</td>\n",
       "      <td>Struthioniformes</td>\n",
       "      <td>{'carbohydrates': 15, 'protein': 1.1, 'fat': 0...</td>\n",
       "    </tr>\n",
       "    <tr>\n",
       "      <th>13</th>\n",
       "      <td>Citrus</td>\n",
       "      <td>Lemon</td>\n",
       "      <td>26</td>\n",
       "      <td>Rutaceae</td>\n",
       "      <td>Sapindales</td>\n",
       "      <td>{'carbohydrates': 9, 'protein': 1.1, 'fat': 0....</td>\n",
       "    </tr>\n",
       "    <tr>\n",
       "      <th>14</th>\n",
       "      <td>Citrus</td>\n",
       "      <td>Lime</td>\n",
       "      <td>44</td>\n",
       "      <td>Rutaceae</td>\n",
       "      <td>Sapindales</td>\n",
       "      <td>{'carbohydrates': 8.4, 'protein': 0.3, 'fat': ...</td>\n",
       "    </tr>\n",
       "    <tr>\n",
       "      <th>15</th>\n",
       "      <td>Vaccinium</td>\n",
       "      <td>Lingonberry</td>\n",
       "      <td>65</td>\n",
       "      <td>Ericaceae</td>\n",
       "      <td>Ericales</td>\n",
       "      <td>{'carbohydrates': 11.3, 'protein': 0.75, 'fat'...</td>\n",
       "    </tr>\n",
       "    <tr>\n",
       "      <th>16</th>\n",
       "      <td>Litchi</td>\n",
       "      <td>Lychee</td>\n",
       "      <td>67</td>\n",
       "      <td>Sapindaceae</td>\n",
       "      <td>Sapindales</td>\n",
       "      <td>{'carbohydrates': 17, 'protein': 0.8, 'fat': 0...</td>\n",
       "    </tr>\n",
       "    <tr>\n",
       "      <th>17</th>\n",
       "      <td>Mangifera</td>\n",
       "      <td>Mango</td>\n",
       "      <td>27</td>\n",
       "      <td>Anacardiaceae</td>\n",
       "      <td>Sapindales</td>\n",
       "      <td>{'carbohydrates': 15, 'protein': 0.82, 'fat': ...</td>\n",
       "    </tr>\n",
       "    <tr>\n",
       "      <th>18</th>\n",
       "      <td>Cucumis</td>\n",
       "      <td>Melon</td>\n",
       "      <td>41</td>\n",
       "      <td>Cucurbitaceae</td>\n",
       "      <td>Cucurbitaceae</td>\n",
       "      <td>{'carbohydrates': 8, 'protein': 0, 'fat': 0, '...</td>\n",
       "    </tr>\n",
       "    <tr>\n",
       "      <th>19</th>\n",
       "      <td>Citrus</td>\n",
       "      <td>Orange</td>\n",
       "      <td>2</td>\n",
       "      <td>Rutaceae</td>\n",
       "      <td>Sapindales</td>\n",
       "      <td>{'carbohydrates': 8.3, 'protein': 1, 'fat': 0....</td>\n",
       "    </tr>\n",
       "    <tr>\n",
       "      <th>20</th>\n",
       "      <td>Carica</td>\n",
       "      <td>Papaya</td>\n",
       "      <td>42</td>\n",
       "      <td>Caricaceae</td>\n",
       "      <td>Caricacea</td>\n",
       "      <td>{'carbohydrates': 11, 'protein': 0, 'fat': 0.4...</td>\n",
       "    </tr>\n",
       "    <tr>\n",
       "      <th>21</th>\n",
       "      <td>Passiflora</td>\n",
       "      <td>Passionfruit</td>\n",
       "      <td>70</td>\n",
       "      <td>Passifloraceae</td>\n",
       "      <td>Malpighiales</td>\n",
       "      <td>{'carbohydrates': 22.4, 'protein': 2.2, 'fat':...</td>\n",
       "    </tr>\n",
       "    <tr>\n",
       "      <th>22</th>\n",
       "      <td>Pyrus</td>\n",
       "      <td>Pear</td>\n",
       "      <td>4</td>\n",
       "      <td>Rosaceae</td>\n",
       "      <td>Rosales</td>\n",
       "      <td>{'carbohydrates': 15, 'protein': 0.4, 'fat': 0...</td>\n",
       "    </tr>\n",
       "    <tr>\n",
       "      <th>23</th>\n",
       "      <td>Diospyros</td>\n",
       "      <td>Persimmon</td>\n",
       "      <td>52</td>\n",
       "      <td>Ebenaceae</td>\n",
       "      <td>Rosales</td>\n",
       "      <td>{'carbohydrates': 18, 'protein': 0, 'fat': 0, ...</td>\n",
       "    </tr>\n",
       "    <tr>\n",
       "      <th>24</th>\n",
       "      <td>Ananas</td>\n",
       "      <td>Pineapple</td>\n",
       "      <td>10</td>\n",
       "      <td>Bromeliaceae</td>\n",
       "      <td>Poales</td>\n",
       "      <td>{'carbohydrates': 13.12, 'protein': 0.54, 'fat...</td>\n",
       "    </tr>\n",
       "    <tr>\n",
       "      <th>25</th>\n",
       "      <td>Prunus</td>\n",
       "      <td>Plum</td>\n",
       "      <td>71</td>\n",
       "      <td>Rosaceae</td>\n",
       "      <td>Rosales</td>\n",
       "      <td>{'carbohydrates': 11.4, 'protein': 0.7, 'fat':...</td>\n",
       "    </tr>\n",
       "    <tr>\n",
       "      <th>26</th>\n",
       "      <td>Rubus</td>\n",
       "      <td>Raspberry</td>\n",
       "      <td>23</td>\n",
       "      <td>Rosaceae</td>\n",
       "      <td>Rosales</td>\n",
       "      <td>{'carbohydrates': 12, 'protein': 1.2, 'fat': 0...</td>\n",
       "    </tr>\n",
       "    <tr>\n",
       "      <th>27</th>\n",
       "      <td>Fragaria</td>\n",
       "      <td>Strawberry</td>\n",
       "      <td>3</td>\n",
       "      <td>Rosaceae</td>\n",
       "      <td>Rosales</td>\n",
       "      <td>{'carbohydrates': 5.5, 'protein': 0.8, 'fat': ...</td>\n",
       "    </tr>\n",
       "    <tr>\n",
       "      <th>28</th>\n",
       "      <td>Solanum</td>\n",
       "      <td>Tomato</td>\n",
       "      <td>5</td>\n",
       "      <td>Solanaceae</td>\n",
       "      <td>Solanales</td>\n",
       "      <td>{'carbohydrates': 3.9, 'protein': 0.9, 'fat': ...</td>\n",
       "    </tr>\n",
       "    <tr>\n",
       "      <th>29</th>\n",
       "      <td>Spondias</td>\n",
       "      <td>Umbu</td>\n",
       "      <td>73</td>\n",
       "      <td>Anacardiaceae</td>\n",
       "      <td>0</td>\n",
       "      <td>{'carbohydrates': 0, 'protein': 0, 'fat': 0, '...</td>\n",
       "    </tr>\n",
       "    <tr>\n",
       "      <th>30</th>\n",
       "      <td>Citrullus</td>\n",
       "      <td>Watermelon</td>\n",
       "      <td>25</td>\n",
       "      <td>Cucurbitaceae</td>\n",
       "      <td>Cucurbitales</td>\n",
       "      <td>{'carbohydrates': 8, 'protein': 0.6, 'fat': 0....</td>\n",
       "    </tr>\n",
       "  </tbody>\n",
       "</table>\n",
       "</div>"
      ],
      "text/plain": [
       "         genus          name  id           family             order  \\\n",
       "0        Malus         Apple   6         Rosaceae           Rosales   \n",
       "1       Prunus       Apricot  35         Rosaceae           Rosales   \n",
       "2         Musa        Banana   1         Musaceae      Zingiberales   \n",
       "3        Rubus    Blackberry  64         Rosaceae           Rosales   \n",
       "4     Fragaria     Blueberry  33         Rosaceae           Rosales   \n",
       "5       Prunus        Cherry   9         Rosaceae              None   \n",
       "6        Durio        Durian  60        Malvaceae          Malvales   \n",
       "7        Ficus           Fig  68         Moraceae           Rosales   \n",
       "8        Ribes    Gooseberry  69  Grossulariaceae      Saxifragales   \n",
       "9        Vitis        Grapes  47         Vitaceae           Vitales   \n",
       "10       Malus    GreenApple  72         Rosaceae           Rosales   \n",
       "11     Psidium         Guava  37        Myrtaceae          Myrtales   \n",
       "12     Apteryx          Kiwi  66    Actinidiaceae  Struthioniformes   \n",
       "13      Citrus         Lemon  26         Rutaceae        Sapindales   \n",
       "14      Citrus          Lime  44         Rutaceae        Sapindales   \n",
       "15   Vaccinium   Lingonberry  65        Ericaceae          Ericales   \n",
       "16      Litchi        Lychee  67      Sapindaceae        Sapindales   \n",
       "17   Mangifera         Mango  27    Anacardiaceae        Sapindales   \n",
       "18     Cucumis         Melon  41    Cucurbitaceae     Cucurbitaceae   \n",
       "19      Citrus        Orange   2         Rutaceae        Sapindales   \n",
       "20      Carica        Papaya  42       Caricaceae         Caricacea   \n",
       "21  Passiflora  Passionfruit  70   Passifloraceae      Malpighiales   \n",
       "22       Pyrus          Pear   4         Rosaceae           Rosales   \n",
       "23   Diospyros     Persimmon  52        Ebenaceae           Rosales   \n",
       "24      Ananas     Pineapple  10     Bromeliaceae            Poales   \n",
       "25      Prunus          Plum  71         Rosaceae           Rosales   \n",
       "26       Rubus     Raspberry  23         Rosaceae           Rosales   \n",
       "27    Fragaria    Strawberry   3         Rosaceae           Rosales   \n",
       "28     Solanum        Tomato   5       Solanaceae         Solanales   \n",
       "29    Spondias          Umbu  73    Anacardiaceae                 0   \n",
       "30   Citrullus    Watermelon  25    Cucurbitaceae      Cucurbitales   \n",
       "\n",
       "                                           nutritions  \n",
       "0   {'carbohydrates': 11.4, 'protein': 0.3, 'fat':...  \n",
       "1   {'carbohydrates': 3.9, 'protein': 0.5, 'fat': ...  \n",
       "2   {'carbohydrates': 22, 'protein': 1, 'fat': 0.2...  \n",
       "3   {'carbohydrates': 9, 'protein': 1.3, 'fat': 0....  \n",
       "4   {'carbohydrates': 5.5, 'protein': 0, 'fat': 0....  \n",
       "5   {'carbohydrates': 12, 'protein': 1, 'fat': 0.3...  \n",
       "6   {'carbohydrates': 27.1, 'protein': 1.5, 'fat':...  \n",
       "7   {'carbohydrates': 19, 'protein': 0.8, 'fat': 0...  \n",
       "8   {'carbohydrates': 10, 'protein': 0.9, 'fat': 0...  \n",
       "9   {'carbohydrates': 18.1, 'protein': 0.72, 'fat'...  \n",
       "10  {'carbohydrates': 3.1, 'protein': 0.4, 'fat': ...  \n",
       "11  {'carbohydrates': 14, 'protein': 2.6, 'fat': 1...  \n",
       "12  {'carbohydrates': 15, 'protein': 1.1, 'fat': 0...  \n",
       "13  {'carbohydrates': 9, 'protein': 1.1, 'fat': 0....  \n",
       "14  {'carbohydrates': 8.4, 'protein': 0.3, 'fat': ...  \n",
       "15  {'carbohydrates': 11.3, 'protein': 0.75, 'fat'...  \n",
       "16  {'carbohydrates': 17, 'protein': 0.8, 'fat': 0...  \n",
       "17  {'carbohydrates': 15, 'protein': 0.82, 'fat': ...  \n",
       "18  {'carbohydrates': 8, 'protein': 0, 'fat': 0, '...  \n",
       "19  {'carbohydrates': 8.3, 'protein': 1, 'fat': 0....  \n",
       "20  {'carbohydrates': 11, 'protein': 0, 'fat': 0.4...  \n",
       "21  {'carbohydrates': 22.4, 'protein': 2.2, 'fat':...  \n",
       "22  {'carbohydrates': 15, 'protein': 0.4, 'fat': 0...  \n",
       "23  {'carbohydrates': 18, 'protein': 0, 'fat': 0, ...  \n",
       "24  {'carbohydrates': 13.12, 'protein': 0.54, 'fat...  \n",
       "25  {'carbohydrates': 11.4, 'protein': 0.7, 'fat':...  \n",
       "26  {'carbohydrates': 12, 'protein': 1.2, 'fat': 0...  \n",
       "27  {'carbohydrates': 5.5, 'protein': 0.8, 'fat': ...  \n",
       "28  {'carbohydrates': 3.9, 'protein': 0.9, 'fat': ...  \n",
       "29  {'carbohydrates': 0, 'protein': 0, 'fat': 0, '...  \n",
       "30  {'carbohydrates': 8, 'protein': 0.6, 'fat': 0....  "
      ]
     },
     "execution_count": 20,
     "metadata": {},
     "output_type": "execute_result"
    }
   ],
   "source": [
    "pd.DataFrame(results)"
   ]
  },
  {
   "cell_type": "markdown",
   "metadata": {},
   "source": [
    "The result is in a nested json format. The 'nutrition' column contains multiple subcolumns, so the data needs to be 'flattened' or normalized."
   ]
  },
  {
   "cell_type": "code",
   "execution_count": 21,
   "metadata": {},
   "outputs": [
    {
     "name": "stdout",
     "output_type": "stream",
     "text": [
      "      genus        name  id    family         order  nutritions.carbohydrates  \\\n",
      "0     Malus       Apple   6  Rosaceae       Rosales                      11.4   \n",
      "1    Prunus     Apricot  35  Rosaceae       Rosales                       3.9   \n",
      "2      Musa      Banana   1  Musaceae  Zingiberales                      22.0   \n",
      "3     Rubus  Blackberry  64  Rosaceae       Rosales                       9.0   \n",
      "4  Fragaria   Blueberry  33  Rosaceae       Rosales                       5.5   \n",
      "\n",
      "   nutritions.protein  nutritions.fat  nutritions.calories  nutritions.sugar  \n",
      "0                 0.3             0.4                   52              10.3  \n",
      "1                 0.5             0.1                   15               3.2  \n",
      "2                 1.0             0.2                   96              17.2  \n",
      "3                 1.3             0.4                   40               4.5  \n",
      "4                 0.0             0.4                   29               5.4  \n"
     ]
    }
   ],
   "source": [
    "# normalizing dataframe\n",
    "df2 = pd.json_normalize(results)\n",
    "\n",
    "# printing the first 5 rows\n",
    "print(df2.head())"
   ]
  },
  {
   "cell_type": "markdown",
   "metadata": {},
   "source": [
    "Let's see if we can extract some information from this dataframe. Perhaps, we need to know how many 'calories' are contained in a Banana, plus its 'family' and 'genus'."
   ]
  },
  {
   "cell_type": "code",
   "execution_count": 32,
   "metadata": {},
   "outputs": [
    {
     "name": "stdout",
     "output_type": "stream",
     "text": [
      "     name    family genus  nutritions.calories\n",
      "2  Banana  Musaceae  Musa                   96\n"
     ]
    }
   ],
   "source": [
    "banana = df2[df2['name'] == 'Banana'][['name', 'family', 'genus', 'nutritions.calories']]\n",
    "\n",
    "print(banana)"
   ]
  },
  {
   "cell_type": "markdown",
   "metadata": {},
   "source": [
    "We see than Banana is from the 'Musaceae' family and comes from the 'Musa' genus or species. And we see it contains about 96 calories. Awesome!"
   ]
  },
  {
   "cell_type": "markdown",
   "metadata": {},
   "source": []
  }
 ],
 "metadata": {
  "kernelspec": {
   "display_name": "Python 3.9.7 ('base')",
   "language": "python",
   "name": "python3"
  },
  "language_info": {
   "codemirror_mode": {
    "name": "ipython",
    "version": 3
   },
   "file_extension": ".py",
   "mimetype": "text/x-python",
   "name": "python",
   "nbconvert_exporter": "python",
   "pygments_lexer": "ipython3",
   "version": "3.9.7"
  },
  "orig_nbformat": 4,
  "vscode": {
   "interpreter": {
    "hash": "830c937019861666cce61b402dd489df1159c5110f29728a226ccbc42880e38c"
   }
  }
 },
 "nbformat": 4,
 "nbformat_minor": 2
}
