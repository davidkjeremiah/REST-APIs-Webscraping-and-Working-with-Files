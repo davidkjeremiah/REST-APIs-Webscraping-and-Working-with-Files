{
 "cells": [
  {
   "cell_type": "markdown",
   "metadata": {},
   "source": [
    "# **Web Scraping**\n",
    "\n",
    "Created on Fri Jul 29 08:37:28 2022\n",
    "\n",
    "@author: David K. Jeremiah"
   ]
  },
  {
   "cell_type": "markdown",
   "metadata": {},
   "source": [
    "<h2><b>Table of Contents</b></h2>\n",
    "<div class=\"alert alert-block alert-info\" style=\"margin-top: 20px\">\n",
    "    <ul>\n",
    "        <li>Overview of Webscraping</li>\n",
    "        <li>Beautiful Soup Objects</li>\n",
    "        <ul>\n",
    "            <li>Tag</li>\n",
    "            <li>Parents, Children, and Siblings</li>\n",
    "            <li>HTML Attributes</li>\n",
    "            <li>Navigable String</li>\n",
    "        </ul>\n",
    "    </ul>\n",
    "    <ul>\n",
    "        <li>Filter</li>\n",
    "        <ul>\n",
    "            <li>find All</li>\n",
    "            <li>find</li>\n",
    "            <li>HTML Attributes</li>\n",
    "            <li>Navigable String</li>\n",
    "        </ul>\n",
    "    </ul>\n",
    "    <ul>\n",
    "        <li>Downloading and Scraping a Web Page Content</li>\n",
    "    </ul>"
   ]
  },
  {
   "cell_type": "markdown",
   "metadata": {},
   "source": [
    "## **Overview of Webscraping**\n",
    "Let's say you want some information from a website. For instance, you would like to know more about your favourite cuisine! What do you do? Well, you can decide to copy and paste the information from Wikipedia to your own file. But what if, as you read through Wikipedia about your favourite meal, you realize there are large amounts of information from a website that you want, and you want it as quickly as possible? In such a situation, copying and pasting will not work and, quite frankly, will be tedious work! This is where Web Scraping comes in handy!\n",
    "\n",
    "Web Scraping is a process that can be used to automatically extract information from a website, and can easily be accomplished within a matter of minutes and not hours. Most of the data on a website are unstructured data in an HTML format which, when web-scraped properly, is then converted into structured data in a spreadsheet or a database so that it can be used in various applications. \n",
    "\n",
    "To get started we just need a little Python code and the help of two modules named `Requests` and `Beautiful Soup`. \n",
    "\n",
    "First, we import the required modules and functions..."
   ]
  },
  {
   "cell_type": "code",
   "execution_count": 1,
   "metadata": {},
   "outputs": [],
   "source": [
    "# Import the required modules and functions\n",
    "from bs4 import BeautifulSoup # this module helps in web scrapping.\n",
    "import requests # this module helps us to download a web page"
   ]
  },
  {
   "cell_type": "markdown",
   "metadata": {},
   "source": [
    "## **Beautiful Soup Objects**\n",
    "\n",
    "Beautiful Soup is a Python package for extracting data from HTML and XML files. \n",
    "\n",
    "Here, we'll concentrate on HTML files. This is accomplished by representing the HTML as a collection of objects that contain methods for parsing the HTML. We can navigate the HTML as a tree and/or filter for what we want.\n",
    "\n",
    "Consider the following HTML:"
   ]
  },
  {
   "cell_type": "code",
   "execution_count": 3,
   "metadata": {
    "vscode": {
     "languageId": "html"
    }
   },
   "outputs": [
    {
     "data": {
      "text/html": [
       "<!DOCTYPE html>\n",
       "<html>\n",
       "    <head>\n",
       "        <title>Page Title</title>\n",
       "    </head>\n",
       "    <body>\n",
       "        <h3><b id='boldest'>Lebron James</b></h3>\n",
       "        <p> Salary: $ 92,000,000 </p>\n",
       "        <h3> Stephen Curry</h3>\n",
       "        <p> Salary: $85,000, 000 </p>\n",
       "        <h3> Kevin Durant </h3>\n",
       "        <p> Salary: $73,200, 000</p>\n",
       "    </body>\n",
       "</html>\n"
      ],
      "text/plain": [
       "<IPython.core.display.HTML object>"
      ]
     },
     "metadata": {},
     "output_type": "display_data"
    }
   ],
   "source": [
    "%%html\n",
    "<!DOCTYPE html>\n",
    "<html>\n",
    "    <head>\n",
    "        <title>Page Title</title>\n",
    "    </head>\n",
    "    <body>\n",
    "        <h3><b id='boldest'>Lebron James</b></h3>\n",
    "        <p> Salary: $ 92,000,000 </p>\n",
    "        <h3> Stephen Curry</h3>\n",
    "        <p> Salary: $85,000, 000 </p>\n",
    "        <h3> Kevin Durant </h3>\n",
    "        <p> Salary: $73,200, 000</p>\n",
    "    </body>\n",
    "</html>"
   ]
  },
  {
   "cell_type": "markdown",
   "metadata": {},
   "source": [
    "We can store it as a string in the variable. Let's call the variable 'html'..."
   ]
  },
  {
   "cell_type": "code",
   "execution_count": 4,
   "metadata": {},
   "outputs": [],
   "source": [
    "html = \"<!DOCTYPE html><html><head><title>Page Title</title></head><body><h3><b id='boldest'>Lebron James</b></h3><p> Salary: $ 92,000,000 </p><h3> Stephen Curry</h3><p> Salary: $85,000, 000 </p><h3> Kevin Durant </h3><p> Salary: $73,200, 000</p></body></html>\""
   ]
  },
  {
   "cell_type": "markdown",
   "metadata": {},
   "source": [
    "To parse or extract parts of this string, we pass it into the BeautifulSoup constructor, the BeautifulSoup object, which represents the document as a nested data structure"
   ]
  },
  {
   "cell_type": "code",
   "execution_count": 7,
   "metadata": {},
   "outputs": [
    {
     "name": "stdout",
     "output_type": "stream",
     "text": [
      "<!DOCTYPE html>\n",
      "<html><head><title>Page Title</title></head><body><h3><b id=\"boldest\">Lebron James</b></h3><p> Salary: $ 92,000,000 </p><h3> Stephen Curry</h3><p> Salary: $85,000, 000 </p><h3> Kevin Durant </h3><p> Salary: $73,200, 000</p></body></html>\n"
     ]
    }
   ],
   "source": [
    "soup = BeautifulSoup(html, 'html.parser')\n",
    "\n",
    "# View output\n",
    "print(soup)"
   ]
  },
  {
   "cell_type": "markdown",
   "metadata": {},
   "source": [
    "Beautiful Soup transforms a complex HTML document into a complex tree of Python objects.\n",
    "\n",
    "Next, we can use the method <code>prettify()</code> to display the HTML in the nested structure:"
   ]
  },
  {
   "cell_type": "code",
   "execution_count": 8,
   "metadata": {},
   "outputs": [
    {
     "name": "stdout",
     "output_type": "stream",
     "text": [
      "<!DOCTYPE html>\n",
      "<html>\n",
      " <head>\n",
      "  <title>\n",
      "   Page Title\n",
      "  </title>\n",
      " </head>\n",
      " <body>\n",
      "  <h3>\n",
      "   <b id=\"boldest\">\n",
      "    Lebron James\n",
      "   </b>\n",
      "  </h3>\n",
      "  <p>\n",
      "   Salary: $ 92,000,000\n",
      "  </p>\n",
      "  <h3>\n",
      "   Stephen Curry\n",
      "  </h3>\n",
      "  <p>\n",
      "   Salary: $85,000, 000\n",
      "  </p>\n",
      "  <h3>\n",
      "   Kevin Durant\n",
      "  </h3>\n",
      "  <p>\n",
      "   Salary: $73,200, 000\n",
      "  </p>\n",
      " </body>\n",
      "</html>\n"
     ]
    }
   ],
   "source": [
    "print(soup.prettify())"
   ]
  },
  {
   "cell_type": "markdown",
   "metadata": {},
   "source": [
    "### Tags\n",
    "Let's say we want the  title of the page and the name of the top paid player we can use the <code>Tag</code>. The <code>Tag</code> object corresponds to an HTML tag in the original document, for example, the tag <code>title</code>."
   ]
  },
  {
   "cell_type": "code",
   "execution_count": 9,
   "metadata": {},
   "outputs": [
    {
     "name": "stdout",
     "output_type": "stream",
     "text": [
      "<title>Page Title</title>\n"
     ]
    }
   ],
   "source": [
    "# extracting the 'title' tag\n",
    "tag_object = soup.title\n",
    "\n",
    "# print result\n",
    "print(tag_object)"
   ]
  },
  {
   "cell_type": "markdown",
   "metadata": {},
   "source": [
    "We can confirm that what we have stored in the tag_object variable is truly a tag with the `type` function:"
   ]
  },
  {
   "cell_type": "code",
   "execution_count": 11,
   "metadata": {},
   "outputs": [
    {
     "name": "stdout",
     "output_type": "stream",
     "text": [
      "tag object type:  <class 'bs4.element.Tag'>\n"
     ]
    }
   ],
   "source": [
    "print('tag object type: ', type(soup.title))"
   ]
  },
  {
   "cell_type": "markdown",
   "metadata": {},
   "source": [
    "Let's try extracting another tag. For example, let's get the most paid player, 'Lebron James', which we know is in the first 'h3' tag:"
   ]
  },
  {
   "cell_type": "code",
   "execution_count": 12,
   "metadata": {},
   "outputs": [
    {
     "name": "stdout",
     "output_type": "stream",
     "text": [
      "<h3><b id=\"boldest\">Lebron James</b></h3>\n"
     ]
    }
   ],
   "source": [
    "tag_object1 = soup.h3\n",
    "print(tag_object1)"
   ]
  },
  {
   "cell_type": "markdown",
   "metadata": {},
   "source": [
    "From the above result, we see so two tags enclosing the name 'Lebron James'. What if I just want to extract the name without the tags? We can do this with the concept of, `Parents`, `Children` and `Siblings`, which helps us navigate easily through html code."
   ]
  },
  {
   "cell_type": "markdown",
   "metadata": {},
   "source": [
    "### Parents, Children, and Siblings\n",
    "Each HTML document can actually be referred to as a document tree. \n",
    "\n",
    "Tags may contain strings as well as other tags. These elements are the tag’s children. We can represent this as a family tree. Each nested tag is a level in the tree. \n",
    "\n",
    "The tag `HTML tag` contains the head and body tag. In other words, the `Head` and `body tag` are the descendants of the html tag. In particular, they are the children of the HTML tag. HTML tag is their parent. The head and body tag are siblings as they are on the same level. \n",
    "\n",
    "`Title tag` is the child of the head tag and thus, its parent is the head tag. The title tag is a descendant of the HTML tag but not its child. \n",
    "\n",
    "The `heading and paragraph tags` are the children of the body tag; and as they are all children of the body tag they are siblings of each other. The `bold tag` is a child of the heading tag"
   ]
  },
  {
   "cell_type": "code",
   "execution_count": 17,
   "metadata": {},
   "outputs": [
    {
     "name": "stdout",
     "output_type": "stream",
     "text": [
      "<b id=\"boldest\">Lebron James</b>\n"
     ]
    }
   ],
   "source": [
    "tag_child = tag_object1.b\n",
    "print(tag_child)"
   ]
  },
  {
   "cell_type": "markdown",
   "metadata": {},
   "source": [
    "You can access back the parent this way:"
   ]
  },
  {
   "cell_type": "code",
   "execution_count": 18,
   "metadata": {},
   "outputs": [
    {
     "name": "stdout",
     "output_type": "stream",
     "text": [
      "<h3><b id=\"boldest\">Lebron James</b></h3>\n"
     ]
    }
   ],
   "source": [
    "parent_tag = tag_child.parent\n",
    "print(parent_tag)"
   ]
  },
  {
   "cell_type": "markdown",
   "metadata": {},
   "source": [
    "the above result is identical to `tag_object1`"
   ]
  },
  {
   "cell_type": "code",
   "execution_count": 19,
   "metadata": {},
   "outputs": [
    {
     "name": "stdout",
     "output_type": "stream",
     "text": [
      "<h3><b id=\"boldest\">Lebron James</b></h3>\n"
     ]
    }
   ],
   "source": [
    "print(tag_object1)"
   ]
  },
  {
   "cell_type": "markdown",
   "metadata": {},
   "source": [
    "the tag_object1 parent is the body element."
   ]
  },
  {
   "cell_type": "code",
   "execution_count": 20,
   "metadata": {},
   "outputs": [
    {
     "name": "stdout",
     "output_type": "stream",
     "text": [
      "<body><h3><b id=\"boldest\">Lebron James</b></h3><p> Salary: $ 92,000,000 </p><h3> Stephen Curry</h3><p> Salary: $85,000, 000 </p><h3> Kevin Durant </h3><p> Salary: $73,200, 000</p></body>\n"
     ]
    }
   ],
   "source": [
    "print(tag_object1.parent)"
   ]
  },
  {
   "cell_type": "markdown",
   "metadata": {},
   "source": [
    "tag_object1 sibling is the paragraph element"
   ]
  },
  {
   "cell_type": "code",
   "execution_count": 22,
   "metadata": {},
   "outputs": [
    {
     "name": "stdout",
     "output_type": "stream",
     "text": [
      "<p> Salary: $ 92,000,000 </p>\n"
     ]
    }
   ],
   "source": [
    "# First sibling in the body element\n",
    "sibling_1 = tag_object1.next_sibling\n",
    "print(sibling_1)"
   ]
  },
  {
   "cell_type": "markdown",
   "metadata": {},
   "source": [
    "sibling_2 is the header element which is also a sibling of both sibling_1 and tag_object"
   ]
  },
  {
   "cell_type": "code",
   "execution_count": 23,
   "metadata": {},
   "outputs": [
    {
     "name": "stdout",
     "output_type": "stream",
     "text": [
      "<h3> Stephen Curry</h3>\n"
     ]
    }
   ],
   "source": [
    "# Second sibling\n",
    "sibling_2 = sibling_1.next_sibling\n",
    "print(sibling_2)"
   ]
  },
  {
   "cell_type": "markdown",
   "metadata": {},
   "source": [
    "Using the object sibling_2 and the property `.next_sibling` and `.string` we find the salary of Stephen Curry:"
   ]
  },
  {
   "cell_type": "code",
   "execution_count": 29,
   "metadata": {},
   "outputs": [
    {
     "name": "stdout",
     "output_type": "stream",
     "text": [
      "Stephen Curry's Salary: $85,000, 000\n"
     ]
    }
   ],
   "source": [
    "# Finding the salary of sibling_2\n",
    "sibling_3 = sibling_2.next_sibling.string\n",
    "print('Stephen Curry\\'s', sibling_3.strip())"
   ]
  },
  {
   "cell_type": "markdown",
   "metadata": {},
   "source": [
    "### HTML Attributes\n",
    "\n",
    "All HTML elements have attributes, which are basically special words that give additional information about the HTML elements as well as serve as a modifier of an HTML element type.\n",
    "\n",
    "Attributes are always specified in the start or opening tag, and usually come in name/value pairs like: name=\"value\".\n",
    "For example, the `<img>` tag used to embed an image in an HTML page, has an `src attribute` which specifies the path to or source of the image to be displayed: `<img src='image.jpg'>`\n",
    "\n",
    "In our case, the bold tag, represented as `<b>`, has an attribute `id` whose value is `boldest`. You can access a tag’s attributes by treating the tag like a dictionary. Recall that we have the bold tag, stored in the `tag_child` variable:"
   ]
  },
  {
   "cell_type": "code",
   "execution_count": 30,
   "metadata": {},
   "outputs": [
    {
     "name": "stdout",
     "output_type": "stream",
     "text": [
      "<b id=\"boldest\">Lebron James</b>\n"
     ]
    }
   ],
   "source": [
    "# print the tag_child variable containing the bold tag\n",
    "print(tag_child)"
   ]
  },
  {
   "cell_type": "markdown",
   "metadata": {},
   "source": [
    "We see that it has an `id` attribute. Now, let's obtain it's value. We can access a tag’s attribute's value by treating the tag like a dictionary:"
   ]
  },
  {
   "cell_type": "code",
   "execution_count": 31,
   "metadata": {},
   "outputs": [
    {
     "name": "stdout",
     "output_type": "stream",
     "text": [
      "boldest\n"
     ]
    }
   ],
   "source": [
    "# Get the id attribute of the bold tag\n",
    "print(tag_child['id'])"
   ]
  },
  {
   "cell_type": "markdown",
   "metadata": {},
   "source": [
    "You can access that dictionary directly as attrs:"
   ]
  },
  {
   "cell_type": "code",
   "execution_count": 32,
   "metadata": {},
   "outputs": [
    {
     "name": "stdout",
     "output_type": "stream",
     "text": [
      "{'id': 'boldest'}\n"
     ]
    }
   ],
   "source": [
    "print(tag_child.attrs)"
   ]
  },
  {
   "cell_type": "markdown",
   "metadata": {},
   "source": [
    "We can also obtain the content of the attribute of the tag using the Python `get()` method."
   ]
  },
  {
   "cell_type": "code",
   "execution_count": 34,
   "metadata": {},
   "outputs": [
    {
     "name": "stdout",
     "output_type": "stream",
     "text": [
      "boldest\n"
     ]
    }
   ],
   "source": [
    "print(tag_child.get('id'))"
   ]
  },
  {
   "cell_type": "markdown",
   "metadata": {},
   "source": [
    "### Navigable String\n",
    "Earlier, we saw that we were able to get Stephen Curry's salary, from the `h3 tag` using the following line of code:"
   ]
  },
  {
   "cell_type": "code",
   "execution_count": 35,
   "metadata": {},
   "outputs": [
    {
     "name": "stdout",
     "output_type": "stream",
     "text": [
      "Stephen Curry's Salary: $85,000, 000\n"
     ]
    }
   ],
   "source": [
    "sibling_3 = sibling_2.next_sibling.string\n",
    "print('Stephen Curry\\'s', sibling_3.strip())"
   ]
  },
  {
   "cell_type": "markdown",
   "metadata": {},
   "source": [
    "Noticed we used a BeautifulSoup attribute called `string`. Although, Beautiful soup calls it differently as ***Navigable String***"
   ]
  },
  {
   "cell_type": "code",
   "execution_count": 36,
   "metadata": {},
   "outputs": [
    {
     "name": "stdout",
     "output_type": "stream",
     "text": [
      "<class 'bs4.element.NavigableString'>\n"
     ]
    }
   ],
   "source": [
    "# verify the type is Navigable String\n",
    "print(type(sibling_3))"
   ]
  },
  {
   "cell_type": "markdown",
   "metadata": {},
   "source": [
    "A **NavigableString** is just like a Python string or Unicode string, to be more precise. The main difference is that it also supports some BeautifulSoup features. We can covert it to sting object in Python:"
   ]
  },
  {
   "cell_type": "code",
   "execution_count": 38,
   "metadata": {},
   "outputs": [
    {
     "name": "stdout",
     "output_type": "stream",
     "text": [
      "<class 'str'>\n",
      " Salary: $85,000, 000 \n"
     ]
    }
   ],
   "source": [
    "unicode_string = str(sibling_3)\n",
    "print(type(unicode_string))\n",
    "print(unicode_string)"
   ]
  },
  {
   "cell_type": "markdown",
   "metadata": {},
   "source": [
    "## **Filter**\n",
    "Filters allow you to find complex patterns, the simplest filter is a string. \n",
    "\n",
    "In this section we will pass a string to a different filter method and Beautiful Soup will perform a match against that exact string. Consider the following HTML of rocket launchs:"
   ]
  },
  {
   "cell_type": "code",
   "execution_count": 40,
   "metadata": {
    "vscode": {
     "languageId": "html"
    }
   },
   "outputs": [
    {
     "data": {
      "text/html": [
       "<!DOCTYPE html>\n",
       "<html>\n",
       "    <table>\n",
       "        <tr>\n",
       "            <td>Flight no</td>\n",
       "            <td>Launch site</td>\n",
       "            <td>Payload mass</td>\n",
       "        </tr>\n",
       "        <tr>\n",
       "            <td>1</td>\n",
       "            <td><a href=\"https://en.wikipedia.org/wiki/Florida\">Florida</a></td>\n",
       "            <td>300</td>\n",
       "        </tr>\n",
       "        <tr>\n",
       "            <td>2</td>\n",
       "            <td><a href=\"https://en.wikipedia.org/wiki/Texas\">Texas</a></td>\n",
       "            <td>94</td>\n",
       "        </tr>\n",
       "        <tr>\n",
       "            <td>3</td>\n",
       "            <td><a href=\"https://en.wikipedia.org/wiki/Florida\">Florida</a></td>\n",
       "            <td>80</td>\n",
       "        </tr>\n",
       "    </table>\n",
       "</html>        \n"
      ],
      "text/plain": [
       "<IPython.core.display.HTML object>"
      ]
     },
     "metadata": {},
     "output_type": "display_data"
    }
   ],
   "source": [
    "%%html\n",
    "<!DOCTYPE html>\n",
    "<html>\n",
    "    <table>\n",
    "        <tr>\n",
    "            <td>Flight no</td>\n",
    "            <td>Launch site</td>\n",
    "            <td>Payload mass</td>\n",
    "        </tr>\n",
    "        <tr>\n",
    "            <td>1</td>\n",
    "            <td><a href=\"https://en.wikipedia.org/wiki/Florida\">Florida</a></td>\n",
    "            <td>300</td>\n",
    "        </tr>\n",
    "        <tr>\n",
    "            <td>2</td>\n",
    "            <td><a href=\"https://en.wikipedia.org/wiki/Texas\">Texas</a></td>\n",
    "            <td>94</td>\n",
    "        </tr>\n",
    "        <tr>\n",
    "            <td>3</td>\n",
    "            <td><a href=\"https://en.wikipedia.org/wiki/Florida\">Florida</a></td>\n",
    "            <td>80</td>\n",
    "        </tr>\n",
    "    </table>\n",
    "</html>        "
   ]
  },
  {
   "cell_type": "markdown",
   "metadata": {},
   "source": [
    "We can store all that line of code as a string in the variable `table`:"
   ]
  },
  {
   "cell_type": "code",
   "execution_count": 41,
   "metadata": {},
   "outputs": [
    {
     "name": "stdout",
     "output_type": "stream",
     "text": [
      "<class 'str'>\n"
     ]
    }
   ],
   "source": [
    "table = \"\"\"<html>\n",
    "    <table>\n",
    "        <tr>\n",
    "            <td>Flight no</td>\n",
    "            <td>Launch site</td>\n",
    "            <td>Payload mass</td>\n",
    "        </tr>\n",
    "        <tr>\n",
    "            <td>1</td>\n",
    "            <td><a href=\"https://en.wikipedia.org/wiki/Florida\">Florida</a></td>\n",
    "            <td>300</td>\n",
    "        </tr>\n",
    "        <tr>\n",
    "            <td>2</td>\n",
    "            <td><a href=\"https://en.wikipedia.org/wiki/Texas\">Texas</a></td>\n",
    "            <td>94</td>\n",
    "        </tr>\n",
    "        <tr>\n",
    "            <td>3</td>\n",
    "            <td><a href=\"https://en.wikipedia.org/wiki/Florida\">Florida</a></td>\n",
    "            <td>80</td>\n",
    "        </tr>\n",
    "    </table>\n",
    "</html>\"\"\"\n",
    "\n",
    "# confirm that we have a string stored in table\n",
    "print(type(table))"
   ]
  },
  {
   "cell_type": "markdown",
   "metadata": {},
   "source": [
    "Now, we pass table into the BeautifulSoup constructor:"
   ]
  },
  {
   "cell_type": "code",
   "execution_count": 43,
   "metadata": {},
   "outputs": [],
   "source": [
    "# creating a BeautifulSoup object\n",
    "table_bs = BeautifulSoup(table, 'html.parser')"
   ]
  },
  {
   "cell_type": "markdown",
   "metadata": {},
   "source": [
    "### find_all\n",
    "The find_all() method looks through a tag’s descendants and retrieves all descendants that match your filters.\n",
    "\n",
    "The Method signature for `find_all(name, attrs, recursive, string, limit, **kwargs)`"
   ]
  },
  {
   "cell_type": "markdown",
   "metadata": {},
   "source": [
    "<h4><i>name</i></h4>\n",
    "When we set the name parameter to a tag name, the method will extract all the tags with that name and its children."
   ]
  },
  {
   "cell_type": "code",
   "execution_count": 44,
   "metadata": {},
   "outputs": [
    {
     "name": "stdout",
     "output_type": "stream",
     "text": [
      "[<tr>\n",
      "<td>Flight no</td>\n",
      "<td>Launch site</td>\n",
      "<td>Payload mass</td>\n",
      "</tr>, <tr>\n",
      "<td>1</td>\n",
      "<td><a href=\"https://en.wikipedia.org/wiki/Florida\">Florida</a></td>\n",
      "<td>300</td>\n",
      "</tr>, <tr>\n",
      "<td>2</td>\n",
      "<td><a href=\"https://en.wikipedia.org/wiki/Texas\">Texas</a></td>\n",
      "<td>94</td>\n",
      "</tr>, <tr>\n",
      "<td>3</td>\n",
      "<td><a href=\"https://en.wikipedia.org/wiki/Florida\">Florida</a></td>\n",
      "<td>80</td>\n",
      "</tr>]\n"
     ]
    }
   ],
   "source": [
    "# find all table rows tag\n",
    "table_rows = table_bs.find_all('tr')\n",
    "print(table_rows)"
   ]
  },
  {
   "cell_type": "markdown",
   "metadata": {},
   "source": [
    "The result is a Python Iterable just like a list, each element is a tag object:"
   ]
  },
  {
   "cell_type": "code",
   "execution_count": 45,
   "metadata": {},
   "outputs": [
    {
     "name": "stdout",
     "output_type": "stream",
     "text": [
      "<tr>\n",
      "<td>Flight no</td>\n",
      "<td>Launch site</td>\n",
      "<td>Payload mass</td>\n",
      "</tr>\n"
     ]
    }
   ],
   "source": [
    "# print the first element of the list\n",
    "# print the first tables row\n",
    "print(table_rows[0])"
   ]
  },
  {
   "cell_type": "code",
   "execution_count": 46,
   "metadata": {},
   "outputs": [
    {
     "name": "stdout",
     "output_type": "stream",
     "text": [
      "<tr>\n",
      "<td>1</td>\n",
      "<td><a href=\"https://en.wikipedia.org/wiki/Florida\">Florida</a></td>\n",
      "<td>300</td>\n",
      "</tr>\n"
     ]
    }
   ],
   "source": [
    "# print the second table row\n",
    "print(table_rows[1])"
   ]
  },
  {
   "cell_type": "markdown",
   "metadata": {},
   "source": [
    "The type is `tag`"
   ]
  },
  {
   "cell_type": "code",
   "execution_count": 47,
   "metadata": {},
   "outputs": [
    {
     "name": "stdout",
     "output_type": "stream",
     "text": [
      "<class 'bs4.element.Tag'>\n"
     ]
    }
   ],
   "source": [
    "print(type(table_rows[1]))"
   ]
  },
  {
   "cell_type": "markdown",
   "metadata": {},
   "source": [
    "we can obtain the child of the first table row, let's assign it to a variable, `table_row_1`"
   ]
  },
  {
   "cell_type": "code",
   "execution_count": 50,
   "metadata": {},
   "outputs": [
    {
     "name": "stdout",
     "output_type": "stream",
     "text": [
      "<td>Flight no</td>\n"
     ]
    }
   ],
   "source": [
    "table_row_1 = table_rows[0]\n",
    "print(table_row_1.td)"
   ]
  },
  {
   "cell_type": "markdown",
   "metadata": {},
   "source": [
    "If we iterate through the list, each element corresponds to a row in the table:"
   ]
  },
  {
   "cell_type": "code",
   "execution_count": 52,
   "metadata": {},
   "outputs": [
    {
     "name": "stdout",
     "output_type": "stream",
     "text": [
      "row 0 : <tr>\n",
      "<td>Flight no</td>\n",
      "<td>Launch site</td>\n",
      "<td>Payload mass</td>\n",
      "</tr>\n",
      "row 1 : <tr>\n",
      "<td>1</td>\n",
      "<td><a href=\"https://en.wikipedia.org/wiki/Florida\">Florida</a></td>\n",
      "<td>300</td>\n",
      "</tr>\n",
      "row 2 : <tr>\n",
      "<td>2</td>\n",
      "<td><a href=\"https://en.wikipedia.org/wiki/Texas\">Texas</a></td>\n",
      "<td>94</td>\n",
      "</tr>\n",
      "row 3 : <tr>\n",
      "<td>3</td>\n",
      "<td><a href=\"https://en.wikipedia.org/wiki/Florida\">Florida</a></td>\n",
      "<td>80</td>\n",
      "</tr>\n"
     ]
    }
   ],
   "source": [
    "for i, row in enumerate(table_rows):\n",
    "    print(\"row\", i, \":\", row)"
   ]
  },
  {
   "cell_type": "markdown",
   "metadata": {},
   "source": [
    "As row is a cell object, we can apply the method find_all to it and extract table cells in the object cells using the tag td, this is all the children with the name td. The result is a list, each element corresponds to a cell and is a Tag object, we can iterate through this list as well. We can extract the content using the string attribute."
   ]
  },
  {
   "cell_type": "code",
   "execution_count": 53,
   "metadata": {},
   "outputs": [
    {
     "name": "stdout",
     "output_type": "stream",
     "text": [
      "row 0\n",
      "colunm 0 cell <td>Flight no</td>\n",
      "colunm 1 cell <td>Launch site</td>\n",
      "colunm 2 cell <td>Payload mass</td>\n",
      "row 1\n",
      "colunm 0 cell <td>1</td>\n",
      "colunm 1 cell <td><a href=\"https://en.wikipedia.org/wiki/Florida\">Florida</a></td>\n",
      "colunm 2 cell <td>300</td>\n",
      "row 2\n",
      "colunm 0 cell <td>2</td>\n",
      "colunm 1 cell <td><a href=\"https://en.wikipedia.org/wiki/Texas\">Texas</a></td>\n",
      "colunm 2 cell <td>94</td>\n",
      "row 3\n",
      "colunm 0 cell <td>3</td>\n",
      "colunm 1 cell <td><a href=\"https://en.wikipedia.org/wiki/Florida\">Florida</a></td>\n",
      "colunm 2 cell <td>80</td>\n"
     ]
    }
   ],
   "source": [
    "for i,row in enumerate(table_rows):\n",
    "    print(\"row\",i)\n",
    "    cells=row.find_all('td')\n",
    "    for j,cell in enumerate(cells):\n",
    "        print('colunm',j,\"cell\",cell)"
   ]
  },
  {
   "cell_type": "markdown",
   "metadata": {},
   "source": [
    "If we use a list with the name parameter, we can match against any item in that list."
   ]
  },
  {
   "cell_type": "code",
   "execution_count": 54,
   "metadata": {},
   "outputs": [
    {
     "name": "stdout",
     "output_type": "stream",
     "text": [
      "[<tr>\n",
      "<td>Flight no</td>\n",
      "<td>Launch site</td>\n",
      "<td>Payload mass</td>\n",
      "</tr>, <td>Flight no</td>, <td>Launch site</td>, <td>Payload mass</td>, <tr>\n",
      "<td>1</td>\n",
      "<td><a href=\"https://en.wikipedia.org/wiki/Florida\">Florida</a></td>\n",
      "<td>300</td>\n",
      "</tr>, <td>1</td>, <td><a href=\"https://en.wikipedia.org/wiki/Florida\">Florida</a></td>, <td>300</td>, <tr>\n",
      "<td>2</td>\n",
      "<td><a href=\"https://en.wikipedia.org/wiki/Texas\">Texas</a></td>\n",
      "<td>94</td>\n",
      "</tr>, <td>2</td>, <td><a href=\"https://en.wikipedia.org/wiki/Texas\">Texas</a></td>, <td>94</td>, <tr>\n",
      "<td>3</td>\n",
      "<td><a href=\"https://en.wikipedia.org/wiki/Florida\">Florida</a></td>\n",
      "<td>80</td>\n",
      "</tr>, <td>3</td>, <td><a href=\"https://en.wikipedia.org/wiki/Florida\">Florida</a></td>, <td>80</td>]\n"
     ]
    }
   ],
   "source": [
    "list_input = table_bs.find_all(name = ['tr', 'td'])\n",
    "print(list_input)"
   ]
  },
  {
   "cell_type": "markdown",
   "metadata": {},
   "source": [
    "<h4><i>Attributes</i></h4>\n",
    "\n",
    "We've established that HTML tag’s have attributes. For example the `href` argument, Beautiful Soup will filter against each tag’s href attribute."
   ]
  },
  {
   "cell_type": "code",
   "execution_count": 59,
   "metadata": {},
   "outputs": [
    {
     "name": "stdout",
     "output_type": "stream",
     "text": [
      "[<a href=\"https://en.wikipedia.org/wiki/Florida\">Florida</a>, <a href=\"https://en.wikipedia.org/wiki/Florida\">Florida</a>]\n"
     ]
    }
   ],
   "source": [
    "list_input_ = table_bs.find_all(href=\"https://en.wikipedia.org/wiki/Florida\")\n",
    "print(list_input_)"
   ]
  },
  {
   "cell_type": "markdown",
   "metadata": {},
   "source": [
    "If we set the href attribute to `True`, regardless of what the value is, the code finds all tags with href value:"
   ]
  },
  {
   "cell_type": "code",
   "execution_count": 60,
   "metadata": {},
   "outputs": [
    {
     "name": "stdout",
     "output_type": "stream",
     "text": [
      "[<a href=\"https://en.wikipedia.org/wiki/Florida\">Florida</a>, <a href=\"https://en.wikipedia.org/wiki/Texas\">Texas</a>, <a href=\"https://en.wikipedia.org/wiki/Florida\">Florida</a>]\n"
     ]
    }
   ],
   "source": [
    "list_input_ = table_bs.find_all(href=True)\n",
    "print(list_input_)"
   ]
  },
  {
   "cell_type": "markdown",
   "metadata": {},
   "source": [
    "How about finding all the elements without href value?"
   ]
  },
  {
   "cell_type": "code",
   "execution_count": 61,
   "metadata": {},
   "outputs": [
    {
     "name": "stdout",
     "output_type": "stream",
     "text": [
      "[<html>\n",
      "<table>\n",
      "<tr>\n",
      "<td>Flight no</td>\n",
      "<td>Launch site</td>\n",
      "<td>Payload mass</td>\n",
      "</tr>\n",
      "<tr>\n",
      "<td>1</td>\n",
      "<td><a href=\"https://en.wikipedia.org/wiki/Florida\">Florida</a></td>\n",
      "<td>300</td>\n",
      "</tr>\n",
      "<tr>\n",
      "<td>2</td>\n",
      "<td><a href=\"https://en.wikipedia.org/wiki/Texas\">Texas</a></td>\n",
      "<td>94</td>\n",
      "</tr>\n",
      "<tr>\n",
      "<td>3</td>\n",
      "<td><a href=\"https://en.wikipedia.org/wiki/Florida\">Florida</a></td>\n",
      "<td>80</td>\n",
      "</tr>\n",
      "</table>\n",
      "</html>, <table>\n",
      "<tr>\n",
      "<td>Flight no</td>\n",
      "<td>Launch site</td>\n",
      "<td>Payload mass</td>\n",
      "</tr>\n",
      "<tr>\n",
      "<td>1</td>\n",
      "<td><a href=\"https://en.wikipedia.org/wiki/Florida\">Florida</a></td>\n",
      "<td>300</td>\n",
      "</tr>\n",
      "<tr>\n",
      "<td>2</td>\n",
      "<td><a href=\"https://en.wikipedia.org/wiki/Texas\">Texas</a></td>\n",
      "<td>94</td>\n",
      "</tr>\n",
      "<tr>\n",
      "<td>3</td>\n",
      "<td><a href=\"https://en.wikipedia.org/wiki/Florida\">Florida</a></td>\n",
      "<td>80</td>\n",
      "</tr>\n",
      "</table>, <tr>\n",
      "<td>Flight no</td>\n",
      "<td>Launch site</td>\n",
      "<td>Payload mass</td>\n",
      "</tr>, <td>Flight no</td>, <td>Launch site</td>, <td>Payload mass</td>, <tr>\n",
      "<td>1</td>\n",
      "<td><a href=\"https://en.wikipedia.org/wiki/Florida\">Florida</a></td>\n",
      "<td>300</td>\n",
      "</tr>, <td>1</td>, <td><a href=\"https://en.wikipedia.org/wiki/Florida\">Florida</a></td>, <td>300</td>, <tr>\n",
      "<td>2</td>\n",
      "<td><a href=\"https://en.wikipedia.org/wiki/Texas\">Texas</a></td>\n",
      "<td>94</td>\n",
      "</tr>, <td>2</td>, <td><a href=\"https://en.wikipedia.org/wiki/Texas\">Texas</a></td>, <td>94</td>, <tr>\n",
      "<td>3</td>\n",
      "<td><a href=\"https://en.wikipedia.org/wiki/Florida\">Florida</a></td>\n",
      "<td>80</td>\n",
      "</tr>, <td>3</td>, <td><a href=\"https://en.wikipedia.org/wiki/Florida\">Florida</a></td>, <td>80</td>]\n"
     ]
    }
   ],
   "source": [
    "list_input_ = table_bs.find_all(href=False)\n",
    "print(list_input_)"
   ]
  },
  {
   "cell_type": "markdown",
   "metadata": {},
   "source": [
    "<h4><i>string</i><h4>\n",
    "With string you can search for strings instead of tags, where we find all the elments with Florida:"
   ]
  },
  {
   "cell_type": "code",
   "execution_count": 62,
   "metadata": {},
   "outputs": [
    {
     "data": {
      "text/plain": [
       "['Texas']"
      ]
     },
     "execution_count": 62,
     "metadata": {},
     "output_type": "execute_result"
    }
   ],
   "source": [
    "table_bs.find_all(string=\"Texas\")"
   ]
  },
  {
   "cell_type": "markdown",
   "metadata": {},
   "source": [
    "### find\n",
    "The `find()` method looks through a tag’s descendants and retrieves the first descendants that match your filters.\n",
    "\n",
    "This method is used if you are looking for one element. Basically, it finds the first element in the document. \n",
    "\n",
    "Consider the following two table:"
   ]
  },
  {
   "cell_type": "code",
   "execution_count": 93,
   "metadata": {
    "vscode": {
     "languageId": "html"
    }
   },
   "outputs": [
    {
     "data": {
      "text/html": [
       "<!DOCTYPE html>\n",
       "<html>\n",
       "    <body>\n",
       "        <h3>Rocket Launch</h3>\n",
       "        <p></p>\n",
       "        <table class='rocket'>\n",
       "            <tr>\n",
       "                <td><b>Flight No</b></td>\n",
       "                <td><b>Launch site</b></td>\n",
       "                <td><b>Payload mass</b></td>\n",
       "            </tr>\n",
       "            <tr>\n",
       "                <td>1</td>\n",
       "                <td>Florida</td>\n",
       "                <td>300 kg</td>\n",
       "            </tr>\n",
       "            <tr>\n",
       "                <td>2</td>\n",
       "                <td>Texas</td>\n",
       "                <td>94 kg</td>\n",
       "            </tr>\n",
       "            <tr>\n",
       "                <td>3</td>\n",
       "                <td>Florida</td>\n",
       "                <td>80 kg</td>\n",
       "            </tr>\n",
       "        </table>\n",
       "        <p></p>\n",
       "        <h3>Pizza Party</h3>\n",
       "        <table class='pizza'>\n",
       "            <tr>\n",
       "                <td><b>Pizza</b></td>\n",
       "                <td><b>Place Orders</b></td>\n",
       "                <td><b>Slices</b></td>\n",
       "            </tr>\n",
       "            <tr>\n",
       "                <td>Domino's Pizza</td>\n",
       "                <td>10</td>\n",
       "                <td>100</td>\n",
       "            </tr>\n",
       "            <tr>\n",
       "                <td>Little Caesars</td>\n",
       "                <td>12</td>\n",
       "                <td>144</td>\n",
       "            </tr>\n",
       "            <tr>\n",
       "                <td>Papa John's</td>\n",
       "                <td>15</td>\n",
       "                <td>165</td>\n",
       "            </tr>\n",
       "        </table>\n",
       "    </body>\n",
       "</html>\n"
      ],
      "text/plain": [
       "<IPython.core.display.HTML object>"
      ]
     },
     "metadata": {},
     "output_type": "display_data"
    }
   ],
   "source": [
    "%%html\n",
    "<!DOCTYPE html>\n",
    "<html>\n",
    "    <body>\n",
    "        <h3>Rocket Launch</h3>\n",
    "        <p></p>\n",
    "        <table class='rocket'>\n",
    "            <tr>\n",
    "                <td><b>Flight No</b></td>\n",
    "                <td><b>Launch site</b></td>\n",
    "                <td><b>Payload mass</b></td>\n",
    "            </tr>\n",
    "            <tr>\n",
    "                <td>1</td>\n",
    "                <td>Florida</td>\n",
    "                <td>300 kg</td>\n",
    "            </tr>\n",
    "            <tr>\n",
    "                <td>2</td>\n",
    "                <td>Texas</td>\n",
    "                <td>94 kg</td>\n",
    "            </tr>\n",
    "            <tr>\n",
    "                <td>3</td>\n",
    "                <td>Florida</td>\n",
    "                <td>80 kg</td>\n",
    "            </tr>\n",
    "        </table>\n",
    "        <p></p>\n",
    "        <h3>Pizza Party</h3>\n",
    "        <table class='pizza'>\n",
    "            <tr>\n",
    "                <td><b>Pizza</b></td>\n",
    "                <td><b>Place Orders</b></td>\n",
    "                <td><b>Slices</b></td>\n",
    "            </tr>\n",
    "            <tr>\n",
    "                <td>Domino's Pizza</td>\n",
    "                <td>10</td>\n",
    "                <td>100</td>\n",
    "            </tr>\n",
    "            <tr>\n",
    "                <td>Little Caesars</td>\n",
    "                <td>12</td>\n",
    "                <td>144</td>\n",
    "            </tr>\n",
    "            <tr>\n",
    "                <td>Papa John's</td>\n",
    "                <td>15</td>\n",
    "                <td>165</td>\n",
    "            </tr>\n",
    "        </table>\n",
    "    </body>\n",
    "</html>"
   ]
  },
  {
   "cell_type": "markdown",
   "metadata": {},
   "source": [
    "We store the HTML as a Python string - assigning it to `table_new`"
   ]
  },
  {
   "cell_type": "code",
   "execution_count": 94,
   "metadata": {},
   "outputs": [],
   "source": [
    "table_new = \"<html><body><h3>Rocket Launch</h3><p></p><table class='rocket'><tr><td><b>Flight No</b></td><td><b>Launch site</b></td><td><b>Payload mass</b></td></tr><tr><td>1</td><td>Florida</td><td>300 kg</td></tr><tr><td>2</td><td>Texas</td><td>94 kg</td></tr><tr><td>3</td><td>Florida</td><td>80 kg</td></tr></table><p></p><h3>Pizza Party</h3><table class='pizza'><tr><td><b>Pizza</b></td><td><b>Place Orders</b></td><td><b>Slices</b></td></tr><tr><td>Domino's Pizza</td><td>10</td><td>100</td></tr><tr><td>Little Caesars</td><td>12</td><td>144</td></tr><tr><td>Papa John's</td><td>15</td><td>165</td></tr></table></body></html>\""
   ]
  },
  {
   "cell_type": "code",
   "execution_count": 95,
   "metadata": {},
   "outputs": [
    {
     "name": "stdout",
     "output_type": "stream",
     "text": [
      "<html><body><h3>Rocket Launch</h3><p></p><table class=\"rocket\"><tr><td><b>Flight No</b></td><td><b>Launch site</b></td><td><b>Payload mass</b></td></tr><tr><td>1</td><td>Florida</td><td>300 kg</td></tr><tr><td>2</td><td>Texas</td><td>94 kg</td></tr><tr><td>3</td><td>Florida</td><td>80 kg</td></tr></table><p></p><h3>Pizza Party</h3><table class=\"pizza\"><tr><td><b>Pizza</b></td><td><b>Place Orders</b></td><td><b>Slices</b></td></tr><tr><td>Domino's Pizza</td><td>10</td><td>100</td></tr><tr><td>Little Caesars</td><td>12</td><td>144</td></tr><tr><td>Papa John's</td><td>15</td><td>165</td></tr></table></body></html>\n"
     ]
    }
   ],
   "source": [
    "table_new_bs = BeautifulSoup(table_new, \"html.parser\")\n",
    "print(table_new_bs)"
   ]
  },
  {
   "cell_type": "markdown",
   "metadata": {},
   "source": [
    "We can find the first table using the tag name <code>table</code>"
   ]
  },
  {
   "cell_type": "code",
   "execution_count": 96,
   "metadata": {},
   "outputs": [
    {
     "name": "stdout",
     "output_type": "stream",
     "text": [
      "<table class=\"rocket\"><tr><td><b>Flight No</b></td><td><b>Launch site</b></td><td><b>Payload mass</b></td></tr><tr><td>1</td><td>Florida</td><td>300 kg</td></tr><tr><td>2</td><td>Texas</td><td>94 kg</td></tr><tr><td>3</td><td>Florida</td><td>80 kg</td></tr></table>\n"
     ]
    }
   ],
   "source": [
    "print(table_new_bs.find(name='table'))"
   ]
  },
  {
   "cell_type": "markdown",
   "metadata": {},
   "source": [
    "We can filter on the `class` attribute to find the second table; the pizza table.\n",
    "\n",
    "**Note** however, because class is a keyword in Python, we add an underscore."
   ]
  },
  {
   "cell_type": "code",
   "execution_count": 97,
   "metadata": {},
   "outputs": [
    {
     "name": "stdout",
     "output_type": "stream",
     "text": [
      "<table class=\"pizza\"><tr><td><b>Pizza</b></td><td><b>Place Orders</b></td><td><b>Slices</b></td></tr><tr><td>Domino's Pizza</td><td>10</td><td>100</td></tr><tr><td>Little Caesars</td><td>12</td><td>144</td></tr><tr><td>Papa John's</td><td>15</td><td>165</td></tr></table>\n"
     ]
    }
   ],
   "source": [
    "print(table_new_bs.find(name=\"table\", class_=\"pizza\"))"
   ]
  },
  {
   "cell_type": "markdown",
   "metadata": {},
   "source": [
    "## **Downloading And Scraping a Web Page Content**\n",
    "We Download the contents of the web page:"
   ]
  },
  {
   "cell_type": "code",
   "execution_count": 102,
   "metadata": {},
   "outputs": [],
   "source": [
    "url = \"http://www.google.com\""
   ]
  },
  {
   "cell_type": "markdown",
   "metadata": {},
   "source": [
    "We use get to download the contents of the webpage in text format and store in a variable called `data`:"
   ]
  },
  {
   "cell_type": "code",
   "execution_count": 109,
   "metadata": {},
   "outputs": [
    {
     "name": "stdout",
     "output_type": "stream",
     "text": [
      "Status code:  200\n"
     ]
    }
   ],
   "source": [
    "# Downloading and store the contents of the webpage\n",
    "data = requests.get(url)\n",
    "\n",
    "# Checking the Success data of download\n",
    "print('Status code: ', data.status_code)\n",
    "\n",
    "# getting the html file in text format\n",
    "data = data.text"
   ]
  },
  {
   "cell_type": "markdown",
   "metadata": {},
   "source": [
    "We create a BeautifulSoup object using the BeautifulSoup constructor"
   ]
  },
  {
   "cell_type": "code",
   "execution_count": 151,
   "metadata": {},
   "outputs": [],
   "source": [
    "# create a soup object using the variable 'data'\n",
    "soup_new = BeautifulSoup(data, 'html.parser') "
   ]
  },
  {
   "cell_type": "markdown",
   "metadata": {},
   "source": [
    "### **Scrape all links**"
   ]
  },
  {
   "cell_type": "code",
   "execution_count": 118,
   "metadata": {},
   "outputs": [
    {
     "name": "stdout",
     "output_type": "stream",
     "text": [
      "http://www.google.com.ng/imghp?hl=en&tab=wi\n",
      "http://maps.google.com.ng/maps?hl=en&tab=wl\n",
      "https://play.google.com/?hl=en&tab=w8\n",
      "http://www.youtube.com/?gl=NG&tab=w1\n",
      "https://news.google.com/?tab=wn\n",
      "https://mail.google.com/mail/?tab=wm\n",
      "https://drive.google.com/?tab=wo\n",
      "https://www.google.com.ng/intl/en/about/products?tab=wh\n",
      "http://www.google.com.ng/history/optout?hl=en\n",
      "/preferences?hl=en\n",
      "https://accounts.google.com/ServiceLogin?hl=en&passive=true&continue=http://www.google.com/&ec=GAZAAQ\n",
      "/advanced_search?hl=en-NG&authuser=0\n",
      "http://www.google.com/setprefs?sig=0_L5ASQdAyWp1lZdOrfyFXOYKlj9Q%3D&hl=ha&source=homepage&sa=X&ved=0ahUKEwimzpL086D5AhUTAKYKHZojAEoQ2ZgBCAU\n",
      "http://www.google.com/setprefs?sig=0_L5ASQdAyWp1lZdOrfyFXOYKlj9Q%3D&hl=ig&source=homepage&sa=X&ved=0ahUKEwimzpL086D5AhUTAKYKHZojAEoQ2ZgBCAY\n",
      "http://www.google.com/setprefs?sig=0_L5ASQdAyWp1lZdOrfyFXOYKlj9Q%3D&hl=yo&source=homepage&sa=X&ved=0ahUKEwimzpL086D5AhUTAKYKHZojAEoQ2ZgBCAc\n",
      "http://www.google.com/setprefs?sig=0_L5ASQdAyWp1lZdOrfyFXOYKlj9Q%3D&hl=pcm&source=homepage&sa=X&ved=0ahUKEwimzpL086D5AhUTAKYKHZojAEoQ2ZgBCAg\n",
      "/intl/en/ads/\n",
      "http://www.google.com.ng/intl/en/services/\n",
      "/intl/en/about.html\n",
      "http://www.google.com/setprefdomain?prefdom=NG&prev=http://www.google.com.ng/&sig=K_PW5-Fvr0Hfrfis7OobP_DZWJhYs%3D\n",
      "/intl/en/policies/privacy/\n",
      "/intl/en/policies/terms/\n"
     ]
    }
   ],
   "source": [
    "for link in soup_new.find_all('a', href=True): \n",
    "    # in html anchor/link is represented by the tag <a>\n",
    "    print(link['href'])"
   ]
  },
  {
   "cell_type": "markdown",
   "metadata": {},
   "source": [
    "### **Scrape  all images  Tags**"
   ]
  },
  {
   "cell_type": "code",
   "execution_count": 122,
   "metadata": {},
   "outputs": [
    {
     "name": "stdout",
     "output_type": "stream",
     "text": [
      "<img alt=\"Google\" height=\"92\" id=\"hplogo\" src=\"/images/branding/googlelogo/1x/googlelogo_white_background_color_272x92dp.png\" style=\"padding:28px 0 14px\" width=\"272\"/>\n",
      " \n",
      "/images/branding/googlelogo/1x/googlelogo_white_background_color_272x92dp.png\n"
     ]
    }
   ],
   "source": [
    "for img_tag in soup_new.find_all('img', src=True):\n",
    "    # in html image is represented by the tag <img>\n",
    "    print(img_tag)\n",
    "    print(\" \")\n",
    "    print(img_tag.get('src'))"
   ]
  },
  {
   "cell_type": "markdown",
   "metadata": {},
   "source": [
    "### **Scrape data from HTML tables**"
   ]
  },
  {
   "cell_type": "code",
   "execution_count": 123,
   "metadata": {},
   "outputs": [],
   "source": [
    "# The below url contains an html table with data about colors and color codes.\n",
    "url = \"https://cf-courses-data.s3.us.cloud-object-storage.appdomain.cloud/IBM-DA0321EN-SkillsNetwork/labs/datasets/HTMLColorCodes.html\""
   ]
  },
  {
   "cell_type": "markdown",
   "metadata": {},
   "source": [
    "Before proceeding to scrape a web site, let's examine the contents, and the way data is organized on the website. So, open the above url in your browser and check how many rows and columns are there in the color table."
   ]
  },
  {
   "cell_type": "code",
   "execution_count": 126,
   "metadata": {},
   "outputs": [],
   "source": [
    "# get the contents of the webpage in text format and store in a variable called data_new\n",
    "data_new = requests.get(url).text"
   ]
  },
  {
   "cell_type": "markdown",
   "metadata": {},
   "source": [
    "Next, parse with Beautiful Soup constructor"
   ]
  },
  {
   "cell_type": "code",
   "execution_count": 129,
   "metadata": {},
   "outputs": [],
   "source": [
    "soup_ = BeautifulSoup(data_new,\"html.parser\")"
   ]
  },
  {
   "cell_type": "code",
   "execution_count": 134,
   "metadata": {},
   "outputs": [],
   "source": [
    "# find a html table in the web page\n",
    "table = soup_.find(name='table') # in html table is represented by the tag <table>"
   ]
  },
  {
   "cell_type": "code",
   "execution_count": 149,
   "metadata": {},
   "outputs": [
    {
     "name": "stdout",
     "output_type": "stream",
     "text": [
      "row 0 :\n",
      "Color Name : None\n",
      "row 1 :\n",
      "lightsalmon : #FFA07A\n",
      "row 2 :\n",
      "salmon : #FA8072\n",
      "row 3 :\n",
      "darksalmon : #E9967A\n",
      "row 4 :\n",
      "lightcoral : #F08080\n",
      "row 5 :\n",
      "coral : #FF7F50\n",
      "row 6 :\n",
      "tomato : #FF6347\n",
      "row 7 :\n",
      "orangered : #FF4500\n",
      "row 8 :\n",
      "gold : #FFD700\n",
      "row 9 :\n",
      "orange : #FFA500\n",
      "row 10 :\n",
      "darkorange : #FF8C00\n",
      "row 11 :\n",
      "lightyellow : #FFFFE0\n",
      "row 12 :\n",
      "lemonchiffon : #FFFACD\n",
      "row 13 :\n",
      "papayawhip : #FFEFD5\n",
      "row 14 :\n",
      "moccasin : #FFE4B5\n",
      "row 15 :\n",
      "peachpuff : #FFDAB9\n",
      "row 16 :\n",
      "palegoldenrod : #EEE8AA\n",
      "row 17 :\n",
      "khaki : #F0E68C\n",
      "row 18 :\n",
      "darkkhaki : #BDB76B\n",
      "row 19 :\n",
      "yellow : #FFFF00\n",
      "row 20 :\n",
      "lawngreen : #7CFC00\n",
      "row 21 :\n",
      "chartreuse : #7FFF00\n",
      "row 22 :\n",
      "limegreen : #32CD32\n",
      "row 23 :\n",
      "lime : #00FF00\n",
      "row 24 :\n",
      "forestgreen : #228B22\n",
      "row 25 :\n",
      "green : #008000\n",
      "row 26 :\n",
      "powderblue : #B0E0E6\n",
      "row 27 :\n",
      "lightblue : #ADD8E6\n",
      "row 28 :\n",
      "lightskyblue : #87CEFA\n",
      "row 29 :\n",
      "skyblue : #87CEEB\n",
      "row 30 :\n",
      "deepskyblue : #00BFFF\n",
      "row 31 :\n",
      "lightsteelblue : #B0C4DE\n",
      "row 32 :\n",
      "dodgerblue : #1E90FF\n"
     ]
    }
   ],
   "source": [
    "# Get all rows from the table\n",
    "for i, row in enumerate(table.find_all('tr')):\n",
    "    # Get all columns in each row\n",
    "    cols  = row.find_all('td')\n",
    "    print(\"row\", i, \":\") # print each row\n",
    "    print(cols[2].string, \":\", str(cols[3].string)) # get the colors, and hex code in each row"
   ]
  },
  {
   "cell_type": "markdown",
   "metadata": {},
   "source": [
    "### **Scrape data from HTML tables into a DataFrame using BeautifulSoup and Pandas**"
   ]
  },
  {
   "cell_type": "code",
   "execution_count": 150,
   "metadata": {},
   "outputs": [],
   "source": [
    "# import pandas\n",
    "import pandas as pd"
   ]
  },
  {
   "cell_type": "code",
   "execution_count": 152,
   "metadata": {},
   "outputs": [],
   "source": [
    "# The below url contains html tables with data about world population.\n",
    "url = \"https://en.wikipedia.org/wiki/World_population\""
   ]
  },
  {
   "cell_type": "markdown",
   "metadata": {},
   "source": [
    "Before proceeding to scrape a web site, we need to examine the contents, and the way data is organized on the website. \n",
    "\n",
    "Therefore, open the above url in your browser and check the tables on the webpage."
   ]
  },
  {
   "cell_type": "code",
   "execution_count": 155,
   "metadata": {},
   "outputs": [
    {
     "name": "stdout",
     "output_type": "stream",
     "text": [
      "200\n"
     ]
    }
   ],
   "source": [
    "# get the contents of the webpage and store in a variable called data_new_2\n",
    "data_new_2 = requests.get(url)\n",
    "\n",
    "# Status check\n",
    "print(data_new_2.status_code)\n",
    "\n",
    "# Convert contents from data_new_2 to text format\n",
    "data_new_2 = data_new_2.text"
   ]
  },
  {
   "cell_type": "code",
   "execution_count": 157,
   "metadata": {},
   "outputs": [],
   "source": [
    "# Parse data using Beautiful Soup constructor\n",
    "soup_new_1 = BeautifulSoup(data_new_2,\"html.parser\")"
   ]
  },
  {
   "cell_type": "code",
   "execution_count": 160,
   "metadata": {},
   "outputs": [
    {
     "name": "stdout",
     "output_type": "stream",
     "text": [
      "25\n"
     ]
    }
   ],
   "source": [
    "# find all html tables in the web page\n",
    "table_list = soup_new_1.find_all(name=\"table\")\n",
    "\n",
    "# we can see how many tables were found by checking the length of the tables list\n",
    "print(len(table_list))"
   ]
  },
  {
   "cell_type": "markdown",
   "metadata": {},
   "source": [
    "We have 25 tables in this website.\n",
    "\n",
    "Now, assume that we are looking for the `10 most densely populated countries` table, we can look through the tables list and find the right one we are look for based on the data in each table or we can search for the table name if it is in the table but this option might not always work."
   ]
  },
  {
   "cell_type": "code",
   "execution_count": 197,
   "metadata": {},
   "outputs": [
    {
     "name": "stdout",
     "output_type": "stream",
     "text": [
      "5\n"
     ]
    }
   ],
   "source": [
    "for index, table in enumerate(table_list):\n",
    "    if \"10 most densely populated countries\" in str(table):\n",
    "        table_index = index\n",
    "\n",
    "print(table_index)"
   ]
  },
  {
   "cell_type": "markdown",
   "metadata": {},
   "source": [
    "Let's locate, using the table_index, the name of the table, '10 most densely populated countries', below."
   ]
  },
  {
   "cell_type": "code",
   "execution_count": 203,
   "metadata": {},
   "outputs": [
    {
     "name": "stdout",
     "output_type": "stream",
     "text": [
      "<table class=\"wikitable sortable\" style=\"text-align:right\">\n",
      " <caption>\n",
      "  10 most densely populated countries\n",
      "  <small>\n",
      "   (with population above 5 million)\n",
      "  </small>\n",
      " </caption>\n",
      " <tbody>\n",
      "  <tr>\n",
      "   <th>\n",
      "    Rank\n",
      "   </th>\n",
      "   <th>\n",
      "    Country\n",
      "   </th>\n",
      "   <th>\n",
      "    Population\n",
      "   </th>\n",
      "   <th>\n",
      "    Area\n",
      "    <br/>\n",
      "    <small>\n",
      "     (km\n",
      "     <sup>\n",
      "      2\n",
      "     </sup>\n",
      "     )\n",
      "    </small>\n",
      "   </th>\n",
      "   <th>\n",
      "    Density\n",
      "    <br/>\n",
      "    <small>\n",
      "     (pop/km\n",
      "     <sup>\n",
      "      2\n",
      "     </sup>\n",
      "     )\n",
      "    </small>\n",
      "   </th>\n",
      "  </tr>\n",
      "  <tr>\n",
      "   <td>\n",
      "    1\n",
      "   </td>\n",
      "   <td align=\"left\">\n",
      "    <span class=\"flagicon\">\n",
      "     <img alt=\"\" class=\"thumbborder\" data-file-height=\"600\" data-file-width=\"900\" decoding=\"async\" height=\"15\" src=\"//upload.wikimedia.org/wikipedia/commons/thumb/4/48/Flag_of_Singapore.svg/23px-Flag_of_Singapore.svg.png\" srcset=\"//upload.wikimedia.org/wikipedia/commons/thumb/4/48/Flag_of_Singapore.svg/35px-Flag_of_Singapore.svg.png 1.5x, //upload.wikimedia.org/wikipedia/commons/thumb/4/48/Flag_of_Singapore.svg/45px-Flag_of_Singapore.svg.png 2x\" width=\"23\"/>\n",
      "    </span>\n",
      "    <a href=\"/wiki/Singapore\" title=\"Singapore\">\n",
      "     Singapore\n",
      "    </a>\n",
      "   </td>\n",
      "   <td>\n",
      "    5,704,000\n",
      "   </td>\n",
      "   <td>\n",
      "    710\n",
      "   </td>\n",
      "   <td>\n",
      "    8,033\n",
      "   </td>\n",
      "  </tr>\n",
      "  <tr>\n",
      "   <td>\n",
      "    2\n",
      "   </td>\n",
      "   <td align=\"left\">\n",
      "    <span class=\"flagicon\">\n",
      "     <img alt=\"\" class=\"thumbborder\" data-file-height=\"600\" data-file-width=\"1000\" decoding=\"async\" height=\"14\" src=\"//upload.wikimedia.org/wikipedia/commons/thumb/f/f9/Flag_of_Bangladesh.svg/23px-Flag_of_Bangladesh.svg.png\" srcset=\"//upload.wikimedia.org/wikipedia/commons/thumb/f/f9/Flag_of_Bangladesh.svg/35px-Flag_of_Bangladesh.svg.png 1.5x, //upload.wikimedia.org/wikipedia/commons/thumb/f/f9/Flag_of_Bangladesh.svg/46px-Flag_of_Bangladesh.svg.png 2x\" width=\"23\"/>\n",
      "    </span>\n",
      "    <a href=\"/wiki/Bangladesh\" title=\"Bangladesh\">\n",
      "     Bangladesh\n",
      "    </a>\n",
      "   </td>\n",
      "   <td>\n",
      "    173,150,000\n",
      "   </td>\n",
      "   <td>\n",
      "    143,998\n",
      "   </td>\n",
      "   <td>\n",
      "    1,202\n",
      "   </td>\n",
      "  </tr>\n",
      "  <tr>\n",
      "   <td>\n",
      "    3\n",
      "   </td>\n",
      "   <td align=\"left\">\n",
      "    <p>\n",
      "     <span class=\"flagicon\">\n",
      "      <img alt=\"\" class=\"thumbborder\" data-file-height=\"216\" data-file-width=\"432\" decoding=\"async\" height=\"12\" src=\"//upload.wikimedia.org/wikipedia/commons/thumb/0/00/Flag_of_Palestine.svg/23px-Flag_of_Palestine.svg.png\" srcset=\"//upload.wikimedia.org/wikipedia/commons/thumb/0/00/Flag_of_Palestine.svg/35px-Flag_of_Palestine.svg.png 1.5x, //upload.wikimedia.org/wikipedia/commons/thumb/0/00/Flag_of_Palestine.svg/46px-Flag_of_Palestine.svg.png 2x\" width=\"23\"/>\n",
      "     </span>\n",
      "     <a href=\"/wiki/State_of_Palestine\" title=\"State of Palestine\">\n",
      "      Palestine\n",
      "     </a>\n",
      "    </p>\n",
      "   </td>\n",
      "   <td>\n",
      "    5,266,785\n",
      "   </td>\n",
      "   <td>\n",
      "    6,020\n",
      "   </td>\n",
      "   <td>\n",
      "    847\n",
      "   </td>\n",
      "  </tr>\n",
      "  <tr>\n",
      "   <td>\n",
      "    4\n",
      "   </td>\n",
      "   <td align=\"left\">\n",
      "    <span class=\"flagicon\">\n",
      "     <img alt=\"\" class=\"thumbborder\" data-file-height=\"600\" data-file-width=\"900\" decoding=\"async\" height=\"15\" src=\"//upload.wikimedia.org/wikipedia/commons/thumb/5/59/Flag_of_Lebanon.svg/23px-Flag_of_Lebanon.svg.png\" srcset=\"//upload.wikimedia.org/wikipedia/commons/thumb/5/59/Flag_of_Lebanon.svg/35px-Flag_of_Lebanon.svg.png 1.5x, //upload.wikimedia.org/wikipedia/commons/thumb/5/59/Flag_of_Lebanon.svg/45px-Flag_of_Lebanon.svg.png 2x\" width=\"23\"/>\n",
      "    </span>\n",
      "    <a href=\"/wiki/Lebanon\" title=\"Lebanon\">\n",
      "     Lebanon\n",
      "    </a>\n",
      "   </td>\n",
      "   <td>\n",
      "    6,856,000\n",
      "   </td>\n",
      "   <td>\n",
      "    10,452\n",
      "   </td>\n",
      "   <td>\n",
      "    656\n",
      "   </td>\n",
      "  </tr>\n",
      "  <tr>\n",
      "   <td>\n",
      "    5\n",
      "   </td>\n",
      "   <td align=\"left\">\n",
      "    <span class=\"flagicon\">\n",
      "     <img alt=\"\" class=\"thumbborder\" data-file-height=\"600\" data-file-width=\"900\" decoding=\"async\" height=\"15\" src=\"//upload.wikimedia.org/wikipedia/commons/thumb/7/72/Flag_of_the_Republic_of_China.svg/23px-Flag_of_the_Republic_of_China.svg.png\" srcset=\"//upload.wikimedia.org/wikipedia/commons/thumb/7/72/Flag_of_the_Republic_of_China.svg/35px-Flag_of_the_Republic_of_China.svg.png 1.5x, //upload.wikimedia.org/wikipedia/commons/thumb/7/72/Flag_of_the_Republic_of_China.svg/45px-Flag_of_the_Republic_of_China.svg.png 2x\" width=\"23\"/>\n",
      "    </span>\n",
      "    <a href=\"/wiki/Taiwan\" title=\"Taiwan\">\n",
      "     Taiwan\n",
      "    </a>\n",
      "   </td>\n",
      "   <td>\n",
      "    23,604,000\n",
      "   </td>\n",
      "   <td>\n",
      "    36,193\n",
      "   </td>\n",
      "   <td>\n",
      "    652\n",
      "   </td>\n",
      "  </tr>\n",
      "  <tr>\n",
      "   <td>\n",
      "    6\n",
      "   </td>\n",
      "   <td align=\"left\">\n",
      "    <span class=\"flagicon\">\n",
      "     <img alt=\"\" class=\"thumbborder\" data-file-height=\"600\" data-file-width=\"900\" decoding=\"async\" height=\"15\" src=\"//upload.wikimedia.org/wikipedia/commons/thumb/0/09/Flag_of_South_Korea.svg/23px-Flag_of_South_Korea.svg.png\" srcset=\"//upload.wikimedia.org/wikipedia/commons/thumb/0/09/Flag_of_South_Korea.svg/35px-Flag_of_South_Korea.svg.png 1.5x, //upload.wikimedia.org/wikipedia/commons/thumb/0/09/Flag_of_South_Korea.svg/45px-Flag_of_South_Korea.svg.png 2x\" width=\"23\"/>\n",
      "    </span>\n",
      "    <a href=\"/wiki/South_Korea\" title=\"South Korea\">\n",
      "     South Korea\n",
      "    </a>\n",
      "   </td>\n",
      "   <td>\n",
      "    51,781,000\n",
      "   </td>\n",
      "   <td>\n",
      "    99,538\n",
      "   </td>\n",
      "   <td>\n",
      "    520\n",
      "   </td>\n",
      "  </tr>\n",
      "  <tr>\n",
      "   <td>\n",
      "    7\n",
      "   </td>\n",
      "   <td align=\"left\">\n",
      "    <span class=\"flagicon\">\n",
      "     <img alt=\"\" class=\"thumbborder\" data-file-height=\"720\" data-file-width=\"1080\" decoding=\"async\" height=\"15\" src=\"//upload.wikimedia.org/wikipedia/commons/thumb/1/17/Flag_of_Rwanda.svg/23px-Flag_of_Rwanda.svg.png\" srcset=\"//upload.wikimedia.org/wikipedia/commons/thumb/1/17/Flag_of_Rwanda.svg/35px-Flag_of_Rwanda.svg.png 1.5x, //upload.wikimedia.org/wikipedia/commons/thumb/1/17/Flag_of_Rwanda.svg/45px-Flag_of_Rwanda.svg.png 2x\" width=\"23\"/>\n",
      "    </span>\n",
      "    <a href=\"/wiki/Rwanda\" title=\"Rwanda\">\n",
      "     Rwanda\n",
      "    </a>\n",
      "   </td>\n",
      "   <td>\n",
      "    12,374,000\n",
      "   </td>\n",
      "   <td>\n",
      "    26,338\n",
      "   </td>\n",
      "   <td>\n",
      "    470\n",
      "   </td>\n",
      "  </tr>\n",
      "  <tr>\n",
      "   <td>\n",
      "    8\n",
      "   </td>\n",
      "   <td align=\"left\">\n",
      "    <span class=\"flagicon\">\n",
      "     <img alt=\"\" class=\"thumbborder\" data-file-height=\"600\" data-file-width=\"1000\" decoding=\"async\" height=\"14\" src=\"//upload.wikimedia.org/wikipedia/commons/thumb/5/56/Flag_of_Haiti.svg/23px-Flag_of_Haiti.svg.png\" srcset=\"//upload.wikimedia.org/wikipedia/commons/thumb/5/56/Flag_of_Haiti.svg/35px-Flag_of_Haiti.svg.png 1.5x, //upload.wikimedia.org/wikipedia/commons/thumb/5/56/Flag_of_Haiti.svg/46px-Flag_of_Haiti.svg.png 2x\" width=\"23\"/>\n",
      "    </span>\n",
      "    <a href=\"/wiki/Haiti\" title=\"Haiti\">\n",
      "     Haiti\n",
      "    </a>\n",
      "   </td>\n",
      "   <td>\n",
      "    11,578,000\n",
      "   </td>\n",
      "   <td>\n",
      "    27,065\n",
      "   </td>\n",
      "   <td>\n",
      "    428\n",
      "   </td>\n",
      "  </tr>\n",
      "  <tr>\n",
      "   <td>\n",
      "    9\n",
      "   </td>\n",
      "   <td align=\"left\">\n",
      "    <span class=\"flagicon\">\n",
      "     <img alt=\"\" class=\"thumbborder\" data-file-height=\"600\" data-file-width=\"900\" decoding=\"async\" height=\"15\" src=\"//upload.wikimedia.org/wikipedia/commons/thumb/2/20/Flag_of_the_Netherlands.svg/23px-Flag_of_the_Netherlands.svg.png\" srcset=\"//upload.wikimedia.org/wikipedia/commons/thumb/2/20/Flag_of_the_Netherlands.svg/35px-Flag_of_the_Netherlands.svg.png 1.5x, //upload.wikimedia.org/wikipedia/commons/thumb/2/20/Flag_of_the_Netherlands.svg/45px-Flag_of_the_Netherlands.svg.png 2x\" width=\"23\"/>\n",
      "    </span>\n",
      "    <a href=\"/wiki/Netherlands\" title=\"Netherlands\">\n",
      "     Netherlands\n",
      "    </a>\n",
      "   </td>\n",
      "   <td>\n",
      "    17,720,000\n",
      "   </td>\n",
      "   <td>\n",
      "    41,526\n",
      "   </td>\n",
      "   <td>\n",
      "    427\n",
      "   </td>\n",
      "  </tr>\n",
      "  <tr>\n",
      "   <td>\n",
      "    10\n",
      "   </td>\n",
      "   <td align=\"left\">\n",
      "    <span class=\"flagicon\">\n",
      "     <img alt=\"\" class=\"thumbborder\" data-file-height=\"800\" data-file-width=\"1100\" decoding=\"async\" height=\"15\" src=\"//upload.wikimedia.org/wikipedia/commons/thumb/d/d4/Flag_of_Israel.svg/21px-Flag_of_Israel.svg.png\" srcset=\"//upload.wikimedia.org/wikipedia/commons/thumb/d/d4/Flag_of_Israel.svg/32px-Flag_of_Israel.svg.png 1.5x, //upload.wikimedia.org/wikipedia/commons/thumb/d/d4/Flag_of_Israel.svg/41px-Flag_of_Israel.svg.png 2x\" width=\"21\"/>\n",
      "    </span>\n",
      "    <a href=\"/wiki/Israel\" title=\"Israel\">\n",
      "     Israel\n",
      "    </a>\n",
      "   </td>\n",
      "   <td>\n",
      "    9,550,000\n",
      "   </td>\n",
      "   <td>\n",
      "    22,072\n",
      "   </td>\n",
      "   <td>\n",
      "    433\n",
      "   </td>\n",
      "  </tr>\n",
      " </tbody>\n",
      "</table>\n",
      "\n"
     ]
    }
   ],
   "source": [
    "pop_table = table_list[table_index] # this is the table we need\n",
    "\n",
    "print(pop_table.prettify())"
   ]
  },
  {
   "cell_type": "code",
   "execution_count": 204,
   "metadata": {},
   "outputs": [
    {
     "data": {
      "text/html": [
       "<div>\n",
       "<style scoped>\n",
       "    .dataframe tbody tr th:only-of-type {\n",
       "        vertical-align: middle;\n",
       "    }\n",
       "\n",
       "    .dataframe tbody tr th {\n",
       "        vertical-align: top;\n",
       "    }\n",
       "\n",
       "    .dataframe thead th {\n",
       "        text-align: right;\n",
       "    }\n",
       "</style>\n",
       "<table border=\"1\" class=\"dataframe\">\n",
       "  <thead>\n",
       "    <tr style=\"text-align: right;\">\n",
       "      <th></th>\n",
       "      <th>Rank</th>\n",
       "      <th>Country</th>\n",
       "      <th>Population</th>\n",
       "      <th>Area</th>\n",
       "      <th>Density</th>\n",
       "    </tr>\n",
       "  </thead>\n",
       "  <tbody>\n",
       "    <tr>\n",
       "      <th>0</th>\n",
       "      <td>1</td>\n",
       "      <td>Singapore</td>\n",
       "      <td>5,704,000</td>\n",
       "      <td>710</td>\n",
       "      <td>8,033</td>\n",
       "    </tr>\n",
       "    <tr>\n",
       "      <th>1</th>\n",
       "      <td>2</td>\n",
       "      <td>Bangladesh</td>\n",
       "      <td>173,150,000</td>\n",
       "      <td>143,998</td>\n",
       "      <td>1,202</td>\n",
       "    </tr>\n",
       "    <tr>\n",
       "      <th>2</th>\n",
       "      <td>3</td>\n",
       "      <td>\\n Palestine\\n\\n</td>\n",
       "      <td>5,266,785</td>\n",
       "      <td>6,020</td>\n",
       "      <td>847</td>\n",
       "    </tr>\n",
       "    <tr>\n",
       "      <th>3</th>\n",
       "      <td>4</td>\n",
       "      <td>Lebanon</td>\n",
       "      <td>6,856,000</td>\n",
       "      <td>10,452</td>\n",
       "      <td>656</td>\n",
       "    </tr>\n",
       "    <tr>\n",
       "      <th>4</th>\n",
       "      <td>5</td>\n",
       "      <td>Taiwan</td>\n",
       "      <td>23,604,000</td>\n",
       "      <td>36,193</td>\n",
       "      <td>652</td>\n",
       "    </tr>\n",
       "    <tr>\n",
       "      <th>5</th>\n",
       "      <td>6</td>\n",
       "      <td>South Korea</td>\n",
       "      <td>51,781,000</td>\n",
       "      <td>99,538</td>\n",
       "      <td>520</td>\n",
       "    </tr>\n",
       "    <tr>\n",
       "      <th>6</th>\n",
       "      <td>7</td>\n",
       "      <td>Rwanda</td>\n",
       "      <td>12,374,000</td>\n",
       "      <td>26,338</td>\n",
       "      <td>470</td>\n",
       "    </tr>\n",
       "    <tr>\n",
       "      <th>7</th>\n",
       "      <td>8</td>\n",
       "      <td>Haiti</td>\n",
       "      <td>11,578,000</td>\n",
       "      <td>27,065</td>\n",
       "      <td>428</td>\n",
       "    </tr>\n",
       "    <tr>\n",
       "      <th>8</th>\n",
       "      <td>9</td>\n",
       "      <td>Netherlands</td>\n",
       "      <td>17,720,000</td>\n",
       "      <td>41,526</td>\n",
       "      <td>427</td>\n",
       "    </tr>\n",
       "    <tr>\n",
       "      <th>9</th>\n",
       "      <td>10</td>\n",
       "      <td>Israel</td>\n",
       "      <td>9,550,000</td>\n",
       "      <td>22,072</td>\n",
       "      <td>433</td>\n",
       "    </tr>\n",
       "  </tbody>\n",
       "</table>\n",
       "</div>"
      ],
      "text/plain": [
       "  Rank           Country   Population     Area Density\n",
       "0    1         Singapore    5,704,000      710   8,033\n",
       "1    2        Bangladesh  173,150,000  143,998   1,202\n",
       "2    3  \\n Palestine\\n\\n    5,266,785    6,020     847\n",
       "3    4           Lebanon    6,856,000   10,452     656\n",
       "4    5            Taiwan   23,604,000   36,193     652\n",
       "5    6       South Korea   51,781,000   99,538     520\n",
       "6    7            Rwanda   12,374,000   26,338     470\n",
       "7    8             Haiti   11,578,000   27,065     428\n",
       "8    9       Netherlands   17,720,000   41,526     427\n",
       "9   10            Israel    9,550,000   22,072     433"
      ]
     },
     "execution_count": 204,
     "metadata": {},
     "output_type": "execute_result"
    }
   ],
   "source": [
    "population_data = pd.DataFrame(columns=[\"Rank\", \"Country\", \"Population\", \"Area\", \"Density\"])\n",
    "\n",
    "for row in pop_table.tbody.find_all(\"tr\"):\n",
    "    col = row.find_all(\"td\")\n",
    "    if (col != []):\n",
    "        rank = col[0].text\n",
    "        country = col[1].text\n",
    "        population = col[2].text.strip()\n",
    "        area = col[3].text.strip()\n",
    "        density = col[4].text.strip()\n",
    "        population_data = population_data.append({\"Rank\":rank, \n",
    "                                                \"Country\":country, \n",
    "                                                \"Population\":population, \n",
    "                                                \"Area\":area, \n",
    "                                                \"Density\":density}, \n",
    "                                                ignore_index=True)\n",
    "\n",
    "population_data"
   ]
  },
  {
   "cell_type": "markdown",
   "metadata": {},
   "source": [
    "### **Scrape data from HTML tables into a DataFrame using BeautifulSoup and read_html**\n",
    "Using the same `url`, `data_new_2`, `soup_new_1`, and `table_list` object as in the last section we can use the Pandas `read_html` function to create a DataFrame.\n",
    "\n",
    "Remember the table we need is located in `pop_table`\n",
    "\n",
    "We can now use the pandas function `read_html` and give it the string version of the table as well as the `flavor` which is the parsing engine bs4."
   ]
  },
  {
   "cell_type": "code",
   "execution_count": 207,
   "metadata": {},
   "outputs": [
    {
     "data": {
      "text/plain": [
       "[   Rank      Country  Population  Area(km2)  Density(pop/km2)\n",
       " 0     1    Singapore     5704000        710              8033\n",
       " 1     2   Bangladesh   173150000     143998              1202\n",
       " 2     3    Palestine     5266785       6020               847\n",
       " 3     4      Lebanon     6856000      10452               656\n",
       " 4     5       Taiwan    23604000      36193               652\n",
       " 5     6  South Korea    51781000      99538               520\n",
       " 6     7       Rwanda    12374000      26338               470\n",
       " 7     8        Haiti    11578000      27065               428\n",
       " 8     9  Netherlands    17720000      41526               427\n",
       " 9    10       Israel     9550000      22072               433]"
      ]
     },
     "execution_count": 207,
     "metadata": {},
     "output_type": "execute_result"
    }
   ],
   "source": [
    "pd.read_html(str(pop_table), flavor=\"bs4\")"
   ]
  },
  {
   "cell_type": "markdown",
   "metadata": {},
   "source": [
    "The function `read_html` always returns a list of DataFrames. \n",
    "\n",
    "Thus, since we have only one list of dataframe, we must pick the one we want out of the list, so as to represent it as a proper dataframe."
   ]
  },
  {
   "cell_type": "code",
   "execution_count": 208,
   "metadata": {},
   "outputs": [
    {
     "data": {
      "text/html": [
       "<div>\n",
       "<style scoped>\n",
       "    .dataframe tbody tr th:only-of-type {\n",
       "        vertical-align: middle;\n",
       "    }\n",
       "\n",
       "    .dataframe tbody tr th {\n",
       "        vertical-align: top;\n",
       "    }\n",
       "\n",
       "    .dataframe thead th {\n",
       "        text-align: right;\n",
       "    }\n",
       "</style>\n",
       "<table border=\"1\" class=\"dataframe\">\n",
       "  <thead>\n",
       "    <tr style=\"text-align: right;\">\n",
       "      <th></th>\n",
       "      <th>Rank</th>\n",
       "      <th>Country</th>\n",
       "      <th>Population</th>\n",
       "      <th>Area(km2)</th>\n",
       "      <th>Density(pop/km2)</th>\n",
       "    </tr>\n",
       "  </thead>\n",
       "  <tbody>\n",
       "    <tr>\n",
       "      <th>0</th>\n",
       "      <td>1</td>\n",
       "      <td>Singapore</td>\n",
       "      <td>5704000</td>\n",
       "      <td>710</td>\n",
       "      <td>8033</td>\n",
       "    </tr>\n",
       "    <tr>\n",
       "      <th>1</th>\n",
       "      <td>2</td>\n",
       "      <td>Bangladesh</td>\n",
       "      <td>173150000</td>\n",
       "      <td>143998</td>\n",
       "      <td>1202</td>\n",
       "    </tr>\n",
       "    <tr>\n",
       "      <th>2</th>\n",
       "      <td>3</td>\n",
       "      <td>Palestine</td>\n",
       "      <td>5266785</td>\n",
       "      <td>6020</td>\n",
       "      <td>847</td>\n",
       "    </tr>\n",
       "    <tr>\n",
       "      <th>3</th>\n",
       "      <td>4</td>\n",
       "      <td>Lebanon</td>\n",
       "      <td>6856000</td>\n",
       "      <td>10452</td>\n",
       "      <td>656</td>\n",
       "    </tr>\n",
       "    <tr>\n",
       "      <th>4</th>\n",
       "      <td>5</td>\n",
       "      <td>Taiwan</td>\n",
       "      <td>23604000</td>\n",
       "      <td>36193</td>\n",
       "      <td>652</td>\n",
       "    </tr>\n",
       "    <tr>\n",
       "      <th>5</th>\n",
       "      <td>6</td>\n",
       "      <td>South Korea</td>\n",
       "      <td>51781000</td>\n",
       "      <td>99538</td>\n",
       "      <td>520</td>\n",
       "    </tr>\n",
       "    <tr>\n",
       "      <th>6</th>\n",
       "      <td>7</td>\n",
       "      <td>Rwanda</td>\n",
       "      <td>12374000</td>\n",
       "      <td>26338</td>\n",
       "      <td>470</td>\n",
       "    </tr>\n",
       "    <tr>\n",
       "      <th>7</th>\n",
       "      <td>8</td>\n",
       "      <td>Haiti</td>\n",
       "      <td>11578000</td>\n",
       "      <td>27065</td>\n",
       "      <td>428</td>\n",
       "    </tr>\n",
       "    <tr>\n",
       "      <th>8</th>\n",
       "      <td>9</td>\n",
       "      <td>Netherlands</td>\n",
       "      <td>17720000</td>\n",
       "      <td>41526</td>\n",
       "      <td>427</td>\n",
       "    </tr>\n",
       "    <tr>\n",
       "      <th>9</th>\n",
       "      <td>10</td>\n",
       "      <td>Israel</td>\n",
       "      <td>9550000</td>\n",
       "      <td>22072</td>\n",
       "      <td>433</td>\n",
       "    </tr>\n",
       "  </tbody>\n",
       "</table>\n",
       "</div>"
      ],
      "text/plain": [
       "   Rank      Country  Population  Area(km2)  Density(pop/km2)\n",
       "0     1    Singapore     5704000        710              8033\n",
       "1     2   Bangladesh   173150000     143998              1202\n",
       "2     3    Palestine     5266785       6020               847\n",
       "3     4      Lebanon     6856000      10452               656\n",
       "4     5       Taiwan    23604000      36193               652\n",
       "5     6  South Korea    51781000      99538               520\n",
       "6     7       Rwanda    12374000      26338               470\n",
       "7     8        Haiti    11578000      27065               428\n",
       "8     9  Netherlands    17720000      41526               427\n",
       "9    10       Israel     9550000      22072               433"
      ]
     },
     "execution_count": 208,
     "metadata": {},
     "output_type": "execute_result"
    }
   ],
   "source": [
    "pd.read_html(str(pop_table), flavor=\"bs4\")[0]"
   ]
  },
  {
   "cell_type": "markdown",
   "metadata": {},
   "source": [
    "### **Scrape data from HTML tables into a DataFrame using read_html**\n",
    "\n",
    "We can also use the read_html function to directly get DataFrames from a url."
   ]
  },
  {
   "cell_type": "code",
   "execution_count": 210,
   "metadata": {},
   "outputs": [
    {
     "name": "stdout",
     "output_type": "stream",
     "text": [
      "25\n"
     ]
    }
   ],
   "source": [
    "dataframe_list = pd.read_html(url, flavor=\"bs4\")\n",
    "\n",
    "# print the number of table found in the url\n",
    "print(len(dataframe_list))"
   ]
  },
  {
   "cell_type": "markdown",
   "metadata": {},
   "source": [
    "We see that we get the same length of table just like when we used find_all on the soup_new_1 object.\n",
    "\n",
    "Finally we can pick the DataFrame we need out of the list."
   ]
  },
  {
   "cell_type": "code",
   "execution_count": 215,
   "metadata": {},
   "outputs": [
    {
     "name": "stdout",
     "output_type": "stream",
     "text": [
      "   Rank      Country  Population  Area(km2)  Density(pop/km2)\n",
      "0     1    Singapore     5704000        710              8033\n",
      "1     2   Bangladesh   173150000     143998              1202\n",
      "2     3    Palestine     5266785       6020               847\n",
      "3     4      Lebanon     6856000      10452               656\n",
      "4     5       Taiwan    23604000      36193               652\n",
      "5     6  South Korea    51781000      99538               520\n",
      "6     7       Rwanda    12374000      26338               470\n",
      "7     8        Haiti    11578000      27065               428\n",
      "8     9  Netherlands    17720000      41526               427\n",
      "9    10       Israel     9550000      22072               433\n"
     ]
    }
   ],
   "source": [
    "print(dataframe_list[table_index])"
   ]
  },
  {
   "cell_type": "markdown",
   "metadata": {},
   "source": [
    "Let's get the `Global annual population growth` located as the 7th index"
   ]
  },
  {
   "cell_type": "code",
   "execution_count": 228,
   "metadata": {},
   "outputs": [
    {
     "name": "stdout",
     "output_type": "stream",
     "text": [
      "    Year  Population Yearly growth           Density(pop/km2)  \\\n",
      "    Year  Population             %    Number Density(pop/km2)   \n",
      "0   1951  2584034261         1.88%  47603112               17   \n",
      "1   1952  2630861562         1.81%  46827301               18   \n",
      "2   1953  2677608960         1.78%  46747398               18   \n",
      "3   1954  2724846741         1.76%  47237781               18   \n",
      "4   1955  2773019936         1.77%  48173195               19   \n",
      "..   ...         ...           ...       ...              ...   \n",
      "65  2016  7464022000         1.14%  84225000               50   \n",
      "66  2017  7547859000         1.12%  83837000               51   \n",
      "67  2018  7631091000         1.10%  83232000               51   \n",
      "68  2019  7713468000         1.08%  82377000               52   \n",
      "69  2020  7795000000         1.05%  81331000               52   \n",
      "\n",
      "   Urban population       \n",
      "             Number    %  \n",
      "0         775067697  30%  \n",
      "1         799282533  30%  \n",
      "2         824289989  31%  \n",
      "3         850179106  31%  \n",
      "4         877008842  32%  \n",
      "..              ...  ...  \n",
      "65       4060653000  54%  \n",
      "66       4140189000  55%  \n",
      "67       4219817000  55%  \n",
      "68       4299439000  56%  \n",
      "69       4378900000  56%  \n",
      "\n",
      "[70 rows x 7 columns]\n"
     ]
    }
   ],
   "source": [
    "print(dataframe_list[7])"
   ]
  },
  {
   "cell_type": "markdown",
   "metadata": {},
   "source": [
    "We can also use the `match` parameter to select the specific table we want. If the table contains a string matching the text it will be read."
   ]
  },
  {
   "cell_type": "code",
   "execution_count": 217,
   "metadata": {},
   "outputs": [
    {
     "data": {
      "text/html": [
       "<div>\n",
       "<style scoped>\n",
       "    .dataframe tbody tr th:only-of-type {\n",
       "        vertical-align: middle;\n",
       "    }\n",
       "\n",
       "    .dataframe tbody tr th {\n",
       "        vertical-align: top;\n",
       "    }\n",
       "\n",
       "    .dataframe thead th {\n",
       "        text-align: right;\n",
       "    }\n",
       "</style>\n",
       "<table border=\"1\" class=\"dataframe\">\n",
       "  <thead>\n",
       "    <tr style=\"text-align: right;\">\n",
       "      <th></th>\n",
       "      <th>Rank</th>\n",
       "      <th>Country</th>\n",
       "      <th>Population</th>\n",
       "      <th>Area(km2)</th>\n",
       "      <th>Density(pop/km2)</th>\n",
       "    </tr>\n",
       "  </thead>\n",
       "  <tbody>\n",
       "    <tr>\n",
       "      <th>0</th>\n",
       "      <td>1</td>\n",
       "      <td>Singapore</td>\n",
       "      <td>5704000</td>\n",
       "      <td>710</td>\n",
       "      <td>8033</td>\n",
       "    </tr>\n",
       "    <tr>\n",
       "      <th>1</th>\n",
       "      <td>2</td>\n",
       "      <td>Bangladesh</td>\n",
       "      <td>173150000</td>\n",
       "      <td>143998</td>\n",
       "      <td>1202</td>\n",
       "    </tr>\n",
       "    <tr>\n",
       "      <th>2</th>\n",
       "      <td>3</td>\n",
       "      <td>Palestine</td>\n",
       "      <td>5266785</td>\n",
       "      <td>6020</td>\n",
       "      <td>847</td>\n",
       "    </tr>\n",
       "    <tr>\n",
       "      <th>3</th>\n",
       "      <td>4</td>\n",
       "      <td>Lebanon</td>\n",
       "      <td>6856000</td>\n",
       "      <td>10452</td>\n",
       "      <td>656</td>\n",
       "    </tr>\n",
       "    <tr>\n",
       "      <th>4</th>\n",
       "      <td>5</td>\n",
       "      <td>Taiwan</td>\n",
       "      <td>23604000</td>\n",
       "      <td>36193</td>\n",
       "      <td>652</td>\n",
       "    </tr>\n",
       "    <tr>\n",
       "      <th>5</th>\n",
       "      <td>6</td>\n",
       "      <td>South Korea</td>\n",
       "      <td>51781000</td>\n",
       "      <td>99538</td>\n",
       "      <td>520</td>\n",
       "    </tr>\n",
       "    <tr>\n",
       "      <th>6</th>\n",
       "      <td>7</td>\n",
       "      <td>Rwanda</td>\n",
       "      <td>12374000</td>\n",
       "      <td>26338</td>\n",
       "      <td>470</td>\n",
       "    </tr>\n",
       "    <tr>\n",
       "      <th>7</th>\n",
       "      <td>8</td>\n",
       "      <td>Haiti</td>\n",
       "      <td>11578000</td>\n",
       "      <td>27065</td>\n",
       "      <td>428</td>\n",
       "    </tr>\n",
       "    <tr>\n",
       "      <th>8</th>\n",
       "      <td>9</td>\n",
       "      <td>Netherlands</td>\n",
       "      <td>17720000</td>\n",
       "      <td>41526</td>\n",
       "      <td>427</td>\n",
       "    </tr>\n",
       "    <tr>\n",
       "      <th>9</th>\n",
       "      <td>10</td>\n",
       "      <td>Israel</td>\n",
       "      <td>9550000</td>\n",
       "      <td>22072</td>\n",
       "      <td>433</td>\n",
       "    </tr>\n",
       "  </tbody>\n",
       "</table>\n",
       "</div>"
      ],
      "text/plain": [
       "   Rank      Country  Population  Area(km2)  Density(pop/km2)\n",
       "0     1    Singapore     5704000        710              8033\n",
       "1     2   Bangladesh   173150000     143998              1202\n",
       "2     3    Palestine     5266785       6020               847\n",
       "3     4      Lebanon     6856000      10452               656\n",
       "4     5       Taiwan    23604000      36193               652\n",
       "5     6  South Korea    51781000      99538               520\n",
       "6     7       Rwanda    12374000      26338               470\n",
       "7     8        Haiti    11578000      27065               428\n",
       "8     9  Netherlands    17720000      41526               427\n",
       "9    10       Israel     9550000      22072               433"
      ]
     },
     "execution_count": 217,
     "metadata": {},
     "output_type": "execute_result"
    }
   ],
   "source": [
    "pd.read_html(url, match=\"10 most densely populated countries\", flavor='bs4')[0]"
   ]
  }
 ],
 "metadata": {
  "kernelspec": {
   "display_name": "Python 3.9.7 ('base')",
   "language": "python",
   "name": "python3"
  },
  "language_info": {
   "codemirror_mode": {
    "name": "ipython",
    "version": 3
   },
   "file_extension": ".py",
   "mimetype": "text/x-python",
   "name": "python",
   "nbconvert_exporter": "python",
   "pygments_lexer": "ipython3",
   "version": "3.9.7"
  },
  "orig_nbformat": 4,
  "vscode": {
   "interpreter": {
    "hash": "830c937019861666cce61b402dd489df1159c5110f29728a226ccbc42880e38c"
   }
  }
 },
 "nbformat": 4,
 "nbformat_minor": 2
}
